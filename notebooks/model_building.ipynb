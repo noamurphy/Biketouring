{
 "cells": [
  {
   "cell_type": "markdown",
   "metadata": {},
   "source": [
    "Notes:\n",
    "- passing 'bikes' into the YELP and FSQR results at their production in yelp_foursquare_EDA.ipynb would remove the need to merge 'bikes' now\n",
    "    - This is would allow results to be loaded in and processed without needing to know the city they are from\n",
    "- a multivariate regression attempting to use poi characteristics to predict how many bikes should be placed at a location should be explored\n",
    "    - could provide valuable insight for bike rental companies"
   ]
  },
  {
   "cell_type": "code",
   "execution_count": 1,
   "metadata": {
    "tags": []
   },
   "outputs": [],
   "source": [
    "import numpy as np\n",
    "import pandas as pd\n",
    "import matplotlib.pyplot as plt\n",
    "from sklearn import linear_model\n",
    "import statsmodels.api as sm"
   ]
  },
  {
   "cell_type": "markdown",
   "metadata": {},
   "source": [
    "Build a regression model."
   ]
  },
  {
   "cell_type": "code",
   "execution_count": 2,
   "metadata": {
    "tags": []
   },
   "outputs": [],
   "source": [
    "# load data\n",
    "results_FSQR = pd.read_csv('../data/POI_results/pois_FSQR.csv')\n",
    "results_YELP = pd.read_csv('../data/POI_results/pois_YELP.csv')\n",
    "palmaBikes = pd.read_csv('../data/Networks/PalmaBikes.csv')"
   ]
  },
  {
   "cell_type": "code",
   "execution_count": 3,
   "metadata": {
    "tags": []
   },
   "outputs": [],
   "source": [
    "# standardize foursquare results rating to the yelp 5 point system\n",
    "results_FSQR['rating'] = results_FSQR['rating'] / 2\n",
    "\n",
    "# combine number of bikes with query results\n",
    "full_results = results_FSQR.merge(palmaBikes, left_on = 'station_id', right_on = 'station_id')"
   ]
  },
  {
   "cell_type": "markdown",
   "metadata": {},
   "source": [
    "### Foursquare data"
   ]
  },
  {
   "cell_type": "markdown",
   "metadata": {},
   "source": [
    "Attempt to predict average distance to a poi by number of bikes (Palma)"
   ]
  },
  {
   "cell_type": "code",
   "execution_count": 4,
   "metadata": {
    "tags": []
   },
   "outputs": [],
   "source": [
    "# prepare data\n",
    "X_prep = full_results[['distance', 'station_id']].groupby('station_id').mean()\n",
    "y_prep = full_results[['bikes', 'station_id']].groupby('station_id').median()\n",
    "\n",
    "# set variables\n",
    "X = X_prep['distance']\n",
    "y = y_prep['bikes']"
   ]
  },
  {
   "cell_type": "code",
   "execution_count": 5,
   "metadata": {
    "tags": []
   },
   "outputs": [
    {
     "data": {
      "text/plain": [
       "(array([2., 4., 5., 4., 5., 3., 6., 1., 2., 2., 0., 1., 1., 1.]),\n",
       " array([ 93.9       , 129.85714286, 165.81428571, 201.77142857,\n",
       "        237.72857143, 273.68571429, 309.64285714, 345.6       ,\n",
       "        381.55714286, 417.51428571, 453.47142857, 489.42857143,\n",
       "        525.38571429, 561.34285714, 597.3       ]),\n",
       " <BarContainer object of 14 artists>)"
      ]
     },
     "execution_count": 5,
     "metadata": {},
     "output_type": "execute_result"
    },
    {
     "data": {
      "image/png": "[encoded data removed]",
      "text/plain": [
       "<Figure size 640x480 with 1 Axes>"
      ]
     },
     "metadata": {},
     "output_type": "display_data"
    }
   ],
   "source": [
    "# check for normal distribution\n",
    "plt.hist(X, bins = 14)"
   ]
  },
  {
   "cell_type": "markdown",
   "metadata": {},
   "source": [
    "Not very normally distributed, but I'll try modelling:"
   ]
  },
  {
   "cell_type": "code",
   "execution_count": 6,
   "metadata": {
    "tags": []
   },
   "outputs": [],
   "source": [
    "X = sm.add_constant(X) # adding a constant\n",
    "lin_reg = sm.OLS(y,X)"
   ]
  },
  {
   "cell_type": "code",
   "execution_count": 7,
   "metadata": {
    "tags": []
   },
   "outputs": [
    {
     "data": {
      "text/html": [
       "<table class=\"simpletable\">\n",
       "<caption>OLS Regression Results</caption>\n",
       "<tr>\n",
       "  <th>Dep. Variable:</th>          <td>bikes</td>      <th>  R-squared:         </th> <td>   0.012</td>\n",
       "</tr>\n",
       "<tr>\n",
       "  <th>Model:</th>                   <td>OLS</td>       <th>  Adj. R-squared:    </th> <td>  -0.016</td>\n",
       "</tr>\n",
       "<tr>\n",
       "  <th>Method:</th>             <td>Least Squares</td>  <th>  F-statistic:       </th> <td>  0.4388</td>\n",
       "</tr>\n",
       "<tr>\n",
       "  <th>Date:</th>             <td>Tue, 28 Feb 2023</td> <th>  Prob (F-statistic):</th>  <td> 0.512</td> \n",
       "</tr>\n",
       "<tr>\n",
       "  <th>Time:</th>                 <td>12:37:03</td>     <th>  Log-Likelihood:    </th> <td> -109.59</td>\n",
       "</tr>\n",
       "<tr>\n",
       "  <th>No. Observations:</th>      <td>    37</td>      <th>  AIC:               </th> <td>   223.2</td>\n",
       "</tr>\n",
       "<tr>\n",
       "  <th>Df Residuals:</th>          <td>    35</td>      <th>  BIC:               </th> <td>   226.4</td>\n",
       "</tr>\n",
       "<tr>\n",
       "  <th>Df Model:</th>              <td>     1</td>      <th>                     </th>     <td> </td>   \n",
       "</tr>\n",
       "<tr>\n",
       "  <th>Covariance Type:</th>      <td>nonrobust</td>    <th>                     </th>     <td> </td>   \n",
       "</tr>\n",
       "</table>\n",
       "<table class=\"simpletable\">\n",
       "<tr>\n",
       "      <td></td>        <th>coef</th>     <th>std err</th>      <th>t</th>      <th>P>|t|</th>  <th>[0.025</th>    <th>0.975]</th>  \n",
       "</tr>\n",
       "<tr>\n",
       "  <th>const</th>    <td>   16.9260</td> <td>    2.047</td> <td>    8.271</td> <td> 0.000</td> <td>   12.771</td> <td>   21.081</td>\n",
       "</tr>\n",
       "<tr>\n",
       "  <th>distance</th> <td>   -0.0045</td> <td>    0.007</td> <td>   -0.662</td> <td> 0.512</td> <td>   -0.018</td> <td>    0.009</td>\n",
       "</tr>\n",
       "</table>\n",
       "<table class=\"simpletable\">\n",
       "<tr>\n",
       "  <th>Omnibus:</th>       <td> 2.759</td> <th>  Durbin-Watson:     </th> <td>   2.429</td>\n",
       "</tr>\n",
       "<tr>\n",
       "  <th>Prob(Omnibus):</th> <td> 0.252</td> <th>  Jarque-Bera (JB):  </th> <td>   1.580</td>\n",
       "</tr>\n",
       "<tr>\n",
       "  <th>Skew:</th>          <td> 0.370</td> <th>  Prob(JB):          </th> <td>   0.454</td>\n",
       "</tr>\n",
       "<tr>\n",
       "  <th>Kurtosis:</th>      <td> 3.690</td> <th>  Cond. No.          </th> <td>    781.</td>\n",
       "</tr>\n",
       "</table><br/><br/>Notes:<br/>[1] Standard Errors assume that the covariance matrix of the errors is correctly specified."
      ],
      "text/plain": [
       "<class 'statsmodels.iolib.summary.Summary'>\n",
       "\"\"\"\n",
       "                            OLS Regression Results                            \n",
       "==============================================================================\n",
       "Dep. Variable:                  bikes   R-squared:                       0.012\n",
       "Model:                            OLS   Adj. R-squared:                 -0.016\n",
       "Method:                 Least Squares   F-statistic:                    0.4388\n",
       "Date:                Tue, 28 Feb 2023   Prob (F-statistic):              0.512\n",
       "Time:                        12:37:03   Log-Likelihood:                -109.59\n",
       "No. Observations:                  37   AIC:                             223.2\n",
       "Df Residuals:                      35   BIC:                             226.4\n",
       "Df Model:                           1                                         \n",
       "Covariance Type:            nonrobust                                         \n",
       "==============================================================================\n",
       "                 coef    std err          t      P>|t|      [0.025      0.975]\n",
       "------------------------------------------------------------------------------\n",
       "const         16.9260      2.047      8.271      0.000      12.771      21.081\n",
       "distance      -0.0045      0.007     -0.662      0.512      -0.018       0.009\n",
       "==============================================================================\n",
       "Omnibus:                        2.759   Durbin-Watson:                   2.429\n",
       "Prob(Omnibus):                  0.252   Jarque-Bera (JB):                1.580\n",
       "Skew:                           0.370   Prob(JB):                        0.454\n",
       "Kurtosis:                       3.690   Cond. No.                         781.\n",
       "==============================================================================\n",
       "\n",
       "Notes:\n",
       "[1] Standard Errors assume that the covariance matrix of the errors is correctly specified.\n",
       "\"\"\""
      ]
     },
     "execution_count": 7,
     "metadata": {},
     "output_type": "execute_result"
    }
   ],
   "source": [
    "model = lin_reg.fit()\n",
    "model.summary()"
   ]
  },
  {
   "cell_type": "markdown",
   "metadata": {},
   "source": [
    "R-Squared is poor, P-Value is far too high, and additional tests all point to the data not fitting the assumptions for linear regression. Since the distribution of the data appeared to be skewed left, I will try a sqrt transformation then model again to see if better results can be gained."
   ]
  },
  {
   "cell_type": "code",
   "execution_count": 8,
   "metadata": {
    "tags": []
   },
   "outputs": [],
   "source": [
    "# set variables\n",
    "X = np.sqrt(X_prep['distance'])\n",
    "y = y_prep['bikes']"
   ]
  },
  {
   "cell_type": "code",
   "execution_count": 9,
   "metadata": {
    "tags": []
   },
   "outputs": [
    {
     "data": {
      "text/plain": [
       "(array([2., 0., 4., 5., 4., 4., 2., 6., 3., 2., 2., 0., 2., 1.]),\n",
       " array([ 9.69020124, 10.74373842, 11.7972756 , 12.85081278, 13.90434996,\n",
       "        14.95788714, 16.01142432, 17.0649615 , 18.11849868, 19.17203586,\n",
       "        20.22557304, 21.27911022, 22.3326474 , 23.38618459, 24.43972177]),\n",
       " <BarContainer object of 14 artists>)"
      ]
     },
     "execution_count": 9,
     "metadata": {},
     "output_type": "execute_result"
    },
    {
     "data": {
      "image/png": "[encoded data removed]",
      "text/plain": [
       "<Figure size 640x480 with 1 Axes>"
      ]
     },
     "metadata": {},
     "output_type": "display_data"
    }
   ],
   "source": [
    "# check for normal distribution\n",
    "plt.hist(X, bins = 14)"
   ]
  },
  {
   "cell_type": "markdown",
   "metadata": {},
   "source": [
    "Distribution appears slightly more normal, but still too bimodal."
   ]
  },
  {
   "cell_type": "code",
   "execution_count": 10,
   "metadata": {
    "tags": []
   },
   "outputs": [],
   "source": [
    "X = sm.add_constant(X) # adding a constant\n",
    "lin_reg = sm.OLS(y,X)"
   ]
  },
  {
   "cell_type": "code",
   "execution_count": 11,
   "metadata": {
    "tags": []
   },
   "outputs": [
    {
     "data": {
      "text/html": [
       "<table class=\"simpletable\">\n",
       "<caption>OLS Regression Results</caption>\n",
       "<tr>\n",
       "  <th>Dep. Variable:</th>          <td>bikes</td>      <th>  R-squared:         </th> <td>   0.017</td>\n",
       "</tr>\n",
       "<tr>\n",
       "  <th>Model:</th>                   <td>OLS</td>       <th>  Adj. R-squared:    </th> <td>  -0.011</td>\n",
       "</tr>\n",
       "<tr>\n",
       "  <th>Method:</th>             <td>Least Squares</td>  <th>  F-statistic:       </th> <td>  0.6205</td>\n",
       "</tr>\n",
       "<tr>\n",
       "  <th>Date:</th>             <td>Tue, 28 Feb 2023</td> <th>  Prob (F-statistic):</th>  <td> 0.436</td> \n",
       "</tr>\n",
       "<tr>\n",
       "  <th>Time:</th>                 <td>12:37:03</td>     <th>  Log-Likelihood:    </th> <td> -109.50</td>\n",
       "</tr>\n",
       "<tr>\n",
       "  <th>No. Observations:</th>      <td>    37</td>      <th>  AIC:               </th> <td>   223.0</td>\n",
       "</tr>\n",
       "<tr>\n",
       "  <th>Df Residuals:</th>          <td>    35</td>      <th>  BIC:               </th> <td>   226.2</td>\n",
       "</tr>\n",
       "<tr>\n",
       "  <th>Df Model:</th>              <td>     1</td>      <th>                     </th>     <td> </td>   \n",
       "</tr>\n",
       "<tr>\n",
       "  <th>Covariance Type:</th>      <td>nonrobust</td>    <th>                     </th>     <td> </td>   \n",
       "</tr>\n",
       "</table>\n",
       "<table class=\"simpletable\">\n",
       "<tr>\n",
       "      <td></td>        <th>coef</th>     <th>std err</th>      <th>t</th>      <th>P>|t|</th>  <th>[0.025</th>    <th>0.975]</th>  \n",
       "</tr>\n",
       "<tr>\n",
       "  <th>const</th>    <td>   18.6386</td> <td>    3.843</td> <td>    4.850</td> <td> 0.000</td> <td>   10.836</td> <td>   26.441</td>\n",
       "</tr>\n",
       "<tr>\n",
       "  <th>distance</th> <td>   -0.1815</td> <td>    0.230</td> <td>   -0.788</td> <td> 0.436</td> <td>   -0.649</td> <td>    0.286</td>\n",
       "</tr>\n",
       "</table>\n",
       "<table class=\"simpletable\">\n",
       "<tr>\n",
       "  <th>Omnibus:</th>       <td> 2.667</td> <th>  Durbin-Watson:     </th> <td>   2.412</td>\n",
       "</tr>\n",
       "<tr>\n",
       "  <th>Prob(Omnibus):</th> <td> 0.264</td> <th>  Jarque-Bera (JB):  </th> <td>   1.504</td>\n",
       "</tr>\n",
       "<tr>\n",
       "  <th>Skew:</th>          <td> 0.355</td> <th>  Prob(JB):          </th> <td>   0.471</td>\n",
       "</tr>\n",
       "<tr>\n",
       "  <th>Kurtosis:</th>      <td> 3.687</td> <th>  Cond. No.          </th> <td>    81.6</td>\n",
       "</tr>\n",
       "</table><br/><br/>Notes:<br/>[1] Standard Errors assume that the covariance matrix of the errors is correctly specified."
      ],
      "text/plain": [
       "<class 'statsmodels.iolib.summary.Summary'>\n",
       "\"\"\"\n",
       "                            OLS Regression Results                            \n",
       "==============================================================================\n",
       "Dep. Variable:                  bikes   R-squared:                       0.017\n",
       "Model:                            OLS   Adj. R-squared:                 -0.011\n",
       "Method:                 Least Squares   F-statistic:                    0.6205\n",
       "Date:                Tue, 28 Feb 2023   Prob (F-statistic):              0.436\n",
       "Time:                        12:37:03   Log-Likelihood:                -109.50\n",
       "No. Observations:                  37   AIC:                             223.0\n",
       "Df Residuals:                      35   BIC:                             226.2\n",
       "Df Model:                           1                                         \n",
       "Covariance Type:            nonrobust                                         \n",
       "==============================================================================\n",
       "                 coef    std err          t      P>|t|      [0.025      0.975]\n",
       "------------------------------------------------------------------------------\n",
       "const         18.6386      3.843      4.850      0.000      10.836      26.441\n",
       "distance      -0.1815      0.230     -0.788      0.436      -0.649       0.286\n",
       "==============================================================================\n",
       "Omnibus:                        2.667   Durbin-Watson:                   2.412\n",
       "Prob(Omnibus):                  0.264   Jarque-Bera (JB):                1.504\n",
       "Skew:                           0.355   Prob(JB):                        0.471\n",
       "Kurtosis:                       3.687   Cond. No.                         81.6\n",
       "==============================================================================\n",
       "\n",
       "Notes:\n",
       "[1] Standard Errors assume that the covariance matrix of the errors is correctly specified.\n",
       "\"\"\""
      ]
     },
     "execution_count": 11,
     "metadata": {},
     "output_type": "execute_result"
    }
   ],
   "source": [
    "model = lin_reg.fit()\n",
    "model.summary()"
   ]
  },
  {
   "cell_type": "markdown",
   "metadata": {},
   "source": [
    "Sqrt transformation yielded a better model, but not by a high enough margin to make the model useful."
   ]
  },
  {
   "cell_type": "markdown",
   "metadata": {},
   "source": [
    "# Stretch"
   ]
  },
  {
   "cell_type": "markdown",
   "metadata": {},
   "source": [
    "How can you turn the regression model into a classification model?"
   ]
  },
  {
   "cell_type": "code",
   "execution_count": null,
   "metadata": {},
   "outputs": [],
   "source": []
  }
 ],
 "metadata": {
  "kernelspec": {
   "display_name": "Python 3 (ipykernel)",
   "language": "python",
   "name": "python3"
  },
  "language_info": {
   "codemirror_mode": {
    "name": "ipython",
    "version": 3
   },
   "file_extension": ".py",
   "mimetype": "text/x-python",
   "name": "python",
   "nbconvert_exporter": "python",
   "pygments_lexer": "ipython3",
   "version": "3.10.9"
  }
 },
 "nbformat": 4,
 "nbformat_minor": 4
}
