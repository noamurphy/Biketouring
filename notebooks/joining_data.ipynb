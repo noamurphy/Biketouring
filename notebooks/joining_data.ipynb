{
 "cells": [
  {
   "cell_type": "markdown",
   "metadata": {},
   "source": [
    "Notes: \n",
    "- FSQR ratings need to be halved to standardize with yelp"
   ]
  },
  {
   "cell_type": "code",
   "execution_count": 1,
   "metadata": {
    "tags": []
   },
   "outputs": [],
   "source": [
    "import pandas as pd\n",
    "import sqlite3"
   ]
  },
  {
   "cell_type": "markdown",
   "metadata": {},
   "source": [
    "Join the data from Part 1 with the data from Part 2 to create a new dataframe."
   ]
  },
  {
   "cell_type": "code",
   "execution_count": 2,
   "metadata": {
    "tags": []
   },
   "outputs": [],
   "source": [
    "# load part 2 data\n",
    "results_FSQR = pd.read_csv('../data/POI_results/pois_FSQR.csv')\n",
    "results_YELP = pd.read_csv('../data/POI_results/pois_YELP.csv')"
   ]
  },
  {
   "cell_type": "code",
   "execution_count": 3,
   "metadata": {
    "tags": []
   },
   "outputs": [
    {
     "name": "stdout",
     "output_type": "stream",
     "text": [
      "<class 'pandas.core.frame.DataFrame'>\n",
      "RangeIndex: 370 entries, 0 to 369\n",
      "Data columns (total 9 columns):\n",
      " #   Column        Non-Null Count  Dtype  \n",
      "---  ------        --------------  -----  \n",
      " 0   station_name  370 non-null    object \n",
      " 1   station_id    370 non-null    object \n",
      " 2   API           370 non-null    object \n",
      " 3   id            370 non-null    object \n",
      " 4   category      370 non-null    object \n",
      " 5   distance      370 non-null    int64  \n",
      " 6   name          370 non-null    object \n",
      " 7   rating        216 non-null    float64\n",
      " 8   ratings       216 non-null    float64\n",
      "dtypes: float64(2), int64(1), object(6)\n",
      "memory usage: 26.1+ KB\n",
      "None\n",
      "<class 'pandas.core.frame.DataFrame'>\n",
      "RangeIndex: 370 entries, 0 to 369\n",
      "Data columns (total 9 columns):\n",
      " #   Column        Non-Null Count  Dtype  \n",
      "---  ------        --------------  -----  \n",
      " 0   station_name  370 non-null    object \n",
      " 1   station_id    370 non-null    object \n",
      " 2   API           370 non-null    object \n",
      " 3   id            370 non-null    object \n",
      " 4   category      370 non-null    object \n",
      " 5   distance      370 non-null    float64\n",
      " 6   name          370 non-null    object \n",
      " 7   rating        370 non-null    float64\n",
      " 8   ratings       370 non-null    int64  \n",
      "dtypes: float64(2), int64(1), object(6)\n",
      "memory usage: 26.1+ KB\n"
     ]
    }
   ],
   "source": [
    "# validate load\n",
    "print(results_FSQR.info())\n",
    "results_YELP.info()"
   ]
  },
  {
   "cell_type": "code",
   "execution_count": 4,
   "metadata": {
    "tags": []
   },
   "outputs": [],
   "source": [
    "# join part 2 data\n",
    "palmaQuery = pd.concat([results_FSQR, results_YELP], ignore_index = True)"
   ]
  },
  {
   "cell_type": "code",
   "execution_count": 5,
   "metadata": {
    "tags": []
   },
   "outputs": [
    {
     "name": "stdout",
     "output_type": "stream",
     "text": [
      "<class 'pandas.core.frame.DataFrame'>\n",
      "RangeIndex: 740 entries, 0 to 739\n",
      "Data columns (total 9 columns):\n",
      " #   Column        Non-Null Count  Dtype  \n",
      "---  ------        --------------  -----  \n",
      " 0   station_name  740 non-null    object \n",
      " 1   station_id    740 non-null    object \n",
      " 2   API           740 non-null    object \n",
      " 3   id            740 non-null    object \n",
      " 4   category      740 non-null    object \n",
      " 5   distance      740 non-null    float64\n",
      " 6   name          740 non-null    object \n",
      " 7   rating        586 non-null    float64\n",
      " 8   ratings       586 non-null    float64\n",
      "dtypes: float64(3), object(6)\n",
      "memory usage: 52.2+ KB\n"
     ]
    }
   ],
   "source": [
    "# validate join\n",
    "palmaQuery.info()"
   ]
  },
  {
   "cell_type": "markdown",
   "metadata": {},
   "source": [
    "Provide a visualization that you used as part of your EDA process. Explain the initial pattern or relationship you discoved through this visualization. "
   ]
  },
  {
   "cell_type": "markdown",
   "metadata": {},
   "source": [
    "Here is the plot generated for total ratings, from the Foursquare vs Yelp analysis:\n",
    "\n",
    "![](../images/ratingsPerBikeStationPalma.png)\n",
    "\n",
    "or click [here](../images/ratingsPerBikeStationPalma.png)"
   ]
  },
  {
   "cell_type": "markdown",
   "metadata": {},
   "source": [
    "# Database"
   ]
  },
  {
   "cell_type": "markdown",
   "metadata": {},
   "source": [
    "Put all your results in an SQLite3 database (remember, SQLite stores its databases as files in your local machine - make sure to create your database in your project's data/ directory!)"
   ]
  },
  {
   "cell_type": "code",
   "execution_count": 6,
   "metadata": {
    "tags": []
   },
   "outputs": [],
   "source": [
    "# table creation queries\n",
    "createTable_networks = '''CREATE TABLE networks\n",
    "(\n",
    "    network_id  VARCHAR PRIMARY KEY,\n",
    "    company     VARCHAR,\n",
    "    name        VARCHAR,\n",
    "    city        VARCHAR,\n",
    "    country     VARCHAR,\n",
    "    latitude    FLOAT,\n",
    "    longitude   FLOAT\n",
    ")'''\n",
    "createTable_stations = '''CREATE TABLE stations\n",
    "(\n",
    "    station_id  VARCHAR PRIMARY KEY,\n",
    "    network_id  VARCHAR,\n",
    "    name        VARCHAR,\n",
    "    bikes       INTEGER,\n",
    "    latitude    FLOAT,\n",
    "    longitude   FLOAT\n",
    ")'''\n",
    "createTable_palmaQuery = '''CREATE TABLE palmaQuery\n",
    "(\n",
    "    station_id    VARCHAR,\n",
    "    station_name  VARCHAR,\n",
    "    API           VARCHAR,\n",
    "    id            VARCHAR,\n",
    "    category      VARCHAR,\n",
    "    distance      FLOAT,\n",
    "    name          VARCHAR,\n",
    "    rating        FLOAT,\n",
    "    ratings       FLOAT\n",
    ")'''"
   ]
  },
  {
   "cell_type": "code",
   "execution_count": 7,
   "metadata": {
    "tags": []
   },
   "outputs": [
    {
     "name": "stdout",
     "output_type": "stream",
     "text": [
      "connection established\n"
     ]
    }
   ],
   "source": [
    "# open database connection\n",
    "conn_str = \"../data/Biketouring.db\"\n",
    "\n",
    "conn = sqlite3.connect(conn_str) \n",
    "c = conn.cursor()\n",
    "print('connection established')"
   ]
  },
  {
   "cell_type": "code",
   "execution_count": 8,
   "metadata": {
    "tags": []
   },
   "outputs": [
    {
     "data": {
      "text/plain": [
       "<sqlite3.Cursor at 0x119cf4640>"
      ]
     },
     "execution_count": 8,
     "metadata": {},
     "output_type": "execute_result"
    }
   ],
   "source": [
    "# drop tables with duplicate name\n",
    "c.execute(\"DROP TABLE IF EXISTS networks;\")\n",
    "c.execute(\"DROP TABLE IF EXISTS stations;\")\n",
    "c.execute(\"DROP TABLE IF EXISTS palmaQuery;\")"
   ]
  },
  {
   "cell_type": "code",
   "execution_count": 9,
   "metadata": {
    "tags": []
   },
   "outputs": [
    {
     "name": "stdout",
     "output_type": "stream",
     "text": [
      "tables created\n"
     ]
    }
   ],
   "source": [
    "# create tables\n",
    "c.execute(createTable_networks)\n",
    "c.execute(createTable_stations)\n",
    "c.execute(createTable_palmaQuery)\n",
    "\n",
    "print('tables created')"
   ]
  },
  {
   "cell_type": "code",
   "execution_count": 10,
   "metadata": {
    "tags": []
   },
   "outputs": [
    {
     "data": {
      "text/plain": [
       "740"
      ]
     },
     "execution_count": 10,
     "metadata": {},
     "output_type": "execute_result"
    }
   ],
   "source": [
    "networks = pd.read_csv('../data/networks_all.csv')\n",
    "networks.to_sql('networks', conn, if_exists='replace', index=False)\n",
    "\n",
    "stations = pd.read_csv('../data/Networks/palmaBikes.csv')\n",
    "stations.to_sql('stations', conn, if_exists='replace', index=False)\n",
    "\n",
    "palmaQuery.to_sql('palmaQuery', conn, if_exists='replace', index=False)"
   ]
  },
  {
   "cell_type": "code",
   "execution_count": 11,
   "metadata": {
    "tags": []
   },
   "outputs": [
    {
     "name": "stdout",
     "output_type": "stream",
     "text": [
      "import to database completed\n"
     ]
    }
   ],
   "source": [
    "# commit and close\n",
    "conn.commit()\n",
    "conn.close()\n",
    "print('import to database completed')"
   ]
  }
 ],
 "metadata": {
  "kernelspec": {
   "display_name": "Python 3 (ipykernel)",
   "language": "python",
   "name": "python3"
  },
  "language_info": {
   "codemirror_mode": {
    "name": "ipython",
    "version": 3
   },
   "file_extension": ".py",
   "mimetype": "text/x-python",
   "name": "python",
   "nbconvert_exporter": "python",
   "pygments_lexer": "ipython3",
   "version": "3.10.9"
  }
 },
 "nbformat": 4,
 "nbformat_minor": 4
}
