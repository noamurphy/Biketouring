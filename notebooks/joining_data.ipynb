{
 "cells": [
  {
   "cell_type": "markdown",
   "metadata": {},
   "source": [
    "Notes: \n",
    "- FSQR ratings need to be halved to standardize with yelp"
   ]
  },
  {
   "cell_type": "code",
   "execution_count": 79,
   "metadata": {
    "tags": []
   },
   "outputs": [],
   "source": [
    "import pandas as pd\n",
    "import sqlite3"
   ]
  },
  {
   "cell_type": "markdown",
   "metadata": {},
   "source": [
    "Join the data from Part 1 with the data from Part 2 to create a new dataframe."
   ]
  },
  {
   "cell_type": "code",
   "execution_count": 80,
   "metadata": {
    "tags": []
   },
   "outputs": [],
   "source": [
    "# load part 2 data\n",
    "results_FSQR = pd.read_csv('../data/POI_results/pois_FSQR.csv')\n",
    "results_YELP = pd.read_csv('../data/POI_results/pois_YELP.csv')"
   ]
  },
  {
   "cell_type": "code",
   "execution_count": 81,
   "metadata": {
    "tags": []
   },
   "outputs": [
    {
     "name": "stdout",
     "output_type": "stream",
     "text": [
      "<class 'pandas.core.frame.DataFrame'>\n",
      "RangeIndex: 370 entries, 0 to 369\n",
      "Data columns (total 9 columns):\n",
      " #   Column        Non-Null Count  Dtype  \n",
      "---  ------        --------------  -----  \n",
      " 0   station_name  370 non-null    object \n",
      " 1   station_id    370 non-null    object \n",
      " 2   API           370 non-null    object \n",
      " 3   id            370 non-null    object \n",
      " 4   category      370 non-null    object \n",
      " 5   distance      370 non-null    int64  \n",
      " 6   name          370 non-null    object \n",
      " 7   rating        219 non-null    float64\n",
      " 8   ratings       219 non-null    float64\n",
      "dtypes: float64(2), int64(1), object(6)\n",
      "memory usage: 26.1+ KB\n",
      "None\n",
      "<class 'pandas.core.frame.DataFrame'>\n",
      "RangeIndex: 370 entries, 0 to 369\n",
      "Data columns (total 9 columns):\n",
      " #   Column        Non-Null Count  Dtype  \n",
      "---  ------        --------------  -----  \n",
      " 0   station_name  370 non-null    object \n",
      " 1   station_id    370 non-null    object \n",
      " 2   API           370 non-null    object \n",
      " 3   id            370 non-null    object \n",
      " 4   category      370 non-null    object \n",
      " 5   distance      370 non-null    float64\n",
      " 6   name          370 non-null    object \n",
      " 7   rating        370 non-null    float64\n",
      " 8   ratings       370 non-null    int64  \n",
      "dtypes: float64(2), int64(1), object(6)\n",
      "memory usage: 26.1+ KB\n"
     ]
    }
   ],
   "source": [
    "# validate load\n",
    "print(results_FSQR.info())\n",
    "results_YELP.info()"
   ]
  },
  {
   "cell_type": "code",
   "execution_count": 82,
   "metadata": {
    "tags": []
   },
   "outputs": [],
   "source": [
    "# join part 2 data\n",
    "palmaQuery = pd.concat([results_FSQR, results_YELP], ignore_index = True)"
   ]
  },
  {
   "cell_type": "code",
   "execution_count": 83,
   "metadata": {
    "tags": []
   },
   "outputs": [
    {
     "name": "stdout",
     "output_type": "stream",
     "text": [
      "<class 'pandas.core.frame.DataFrame'>\n",
      "RangeIndex: 740 entries, 0 to 739\n",
      "Data columns (total 9 columns):\n",
      " #   Column        Non-Null Count  Dtype  \n",
      "---  ------        --------------  -----  \n",
      " 0   station_name  740 non-null    object \n",
      " 1   station_id    740 non-null    object \n",
      " 2   API           740 non-null    object \n",
      " 3   id            740 non-null    object \n",
      " 4   category      740 non-null    object \n",
      " 5   distance      740 non-null    float64\n",
      " 6   name          740 non-null    object \n",
      " 7   rating        589 non-null    float64\n",
      " 8   ratings       589 non-null    float64\n",
      "dtypes: float64(3), object(6)\n",
      "memory usage: 52.2+ KB\n"
     ]
    }
   ],
   "source": [
    "# validate join\n",
    "palmaQuery.info()"
   ]
  },
  {
   "cell_type": "markdown",
   "metadata": {},
   "source": [
    "Provide a visualization that you used as part of your EDA process. Explain the initial pattern or relationship you discoved through this visualization. "
   ]
  },
  {
   "cell_type": "markdown",
   "metadata": {},
   "source": [
    "# Database"
   ]
  },
  {
   "cell_type": "markdown",
   "metadata": {},
   "source": [
    "Put all your results in an SQLite3 database (remember, SQLite stores its databases as files in your local machine - make sure to create your database in your project's data/ directory!)"
   ]
  },
  {
   "cell_type": "code",
   "execution_count": 84,
   "metadata": {
    "tags": []
   },
   "outputs": [],
   "source": [
    "# table creation queries\n",
    "createTable_networks = '''CREATE TABLE networks\n",
    "(\n",
    "    network_id  VARCHAR PRIMARY KEY,\n",
    "    company     VARCHAR,\n",
    "    name        VARCHAR,\n",
    "    city        VARCHAR,\n",
    "    country     VARCHAR,\n",
    "    latitude    FLOAT,\n",
    "    longitude   FLOAT\n",
    ")'''\n",
    "createTable_stations = '''CREATE TABLE stations\n",
    "(\n",
    "    station_id  VARCHAR PRIMARY KEY,\n",
    "    network_id  VARCHAR,\n",
    "    name        VARCHAR,\n",
    "    bikes       INTEGER,\n",
    "    latitude    FLOAT,\n",
    "    longitude   FLOAT\n",
    ")'''\n",
    "createTable_palmaQuery = '''CREATE TABLE palmaQuery\n",
    "(\n",
    "    station_id    VARCHAR,\n",
    "    station_name  VARCHAR,\n",
    "    API           VARCHAR,\n",
    "    id            VARCHAR,\n",
    "    category      VARCHAR,\n",
    "    distance      FLOAT,\n",
    "    name          VARCHAR,\n",
    "    rating        FLOAT,\n",
    "    ratings       FLOAT\n",
    ")'''"
   ]
  },
  {
   "cell_type": "code",
   "execution_count": 85,
   "metadata": {
    "tags": []
   },
   "outputs": [
    {
     "name": "stdout",
     "output_type": "stream",
     "text": [
      "connection established\n"
     ]
    }
   ],
   "source": [
    "# open database connection\n",
    "conn_str = \"../data/Biketouring.db\"\n",
    "\n",
    "conn = sqlite3.connect(conn_str) \n",
    "c = conn.cursor()\n",
    "print('connection established')"
   ]
  },
  {
   "cell_type": "code",
   "execution_count": 86,
   "metadata": {
    "tags": []
   },
   "outputs": [
    {
     "data": {
      "text/plain": [
       "<sqlite3.Cursor at 0x142c259c0>"
      ]
     },
     "execution_count": 86,
     "metadata": {},
     "output_type": "execute_result"
    }
   ],
   "source": [
    "# drop tables with duplicate name\n",
    "c.execute(\"DROP TABLE IF EXISTS networks;\")\n",
    "c.execute(\"DROP TABLE IF EXISTS stations;\")\n",
    "c.execute(\"DROP TABLE IF EXISTS palmaQuery;\")"
   ]
  },
  {
   "cell_type": "code",
   "execution_count": 87,
   "metadata": {
    "tags": []
   },
   "outputs": [
    {
     "name": "stdout",
     "output_type": "stream",
     "text": [
      "tables created\n"
     ]
    }
   ],
   "source": [
    "# create tables\n",
    "c.execute(createTable_networks)\n",
    "c.execute(createTable_stations)\n",
    "c.execute(createTable_palmaQuery)\n",
    "\n",
    "print('tables created')"
   ]
  },
  {
   "cell_type": "code",
   "execution_count": 88,
   "metadata": {
    "tags": []
   },
   "outputs": [
    {
     "data": {
      "text/plain": [
       "740"
      ]
     },
     "execution_count": 88,
     "metadata": {},
     "output_type": "execute_result"
    }
   ],
   "source": [
    "networks = pd.read_csv('../data/networks_all.csv')\n",
    "networks.to_sql('networks', conn, if_exists='replace', index=False)\n",
    "\n",
    "stations = pd.read_csv('../data/Networks/palmaBikes.csv')\n",
    "stations.to_sql('stations', conn, if_exists='replace', index=False)\n",
    "\n",
    "palmaQuery.to_sql('palmaQuery', conn, if_exists='replace', index=False)"
   ]
  },
  {
   "cell_type": "code",
   "execution_count": 93,
   "metadata": {
    "tags": []
   },
   "outputs": [
    {
     "data": {
      "text/html": [
       "<div>\n",
       "<style scoped>\n",
       "    .dataframe tbody tr th:only-of-type {\n",
       "        vertical-align: middle;\n",
       "    }\n",
       "\n",
       "    .dataframe tbody tr th {\n",
       "        vertical-align: top;\n",
       "    }\n",
       "\n",
       "    .dataframe thead th {\n",
       "        text-align: right;\n",
       "    }\n",
       "</style>\n",
       "<table border=\"1\" class=\"dataframe\">\n",
       "  <thead>\n",
       "    <tr style=\"text-align: right;\">\n",
       "      <th></th>\n",
       "      <th>company</th>\n",
       "      <th>network_id</th>\n",
       "      <th>name</th>\n",
       "      <th>city</th>\n",
       "      <th>country</th>\n",
       "      <th>latitude</th>\n",
       "      <th>longitude</th>\n",
       "    </tr>\n",
       "  </thead>\n",
       "  <tbody>\n",
       "    <tr>\n",
       "      <th>0</th>\n",
       "      <td>['ЗАО «СитиБайк»']</td>\n",
       "      <td>velobike-moscow</td>\n",
       "      <td>Velobike</td>\n",
       "      <td>Moscow</td>\n",
       "      <td>RU</td>\n",
       "      <td>55.750000</td>\n",
       "      <td>37.616667</td>\n",
       "    </tr>\n",
       "    <tr>\n",
       "      <th>1</th>\n",
       "      <td>['Urban Infrastructure Partner']</td>\n",
       "      <td>baerum-bysykkel</td>\n",
       "      <td>Bysykkel</td>\n",
       "      <td>Bærum</td>\n",
       "      <td>NO</td>\n",
       "      <td>59.894550</td>\n",
       "      <td>10.546343</td>\n",
       "    </tr>\n",
       "    <tr>\n",
       "      <th>2</th>\n",
       "      <td>['Comunicare S.r.l.']</td>\n",
       "      <td>bicincitta-siena</td>\n",
       "      <td>Bicincittà</td>\n",
       "      <td>Siena</td>\n",
       "      <td>IT</td>\n",
       "      <td>43.318600</td>\n",
       "      <td>11.330600</td>\n",
       "    </tr>\n",
       "    <tr>\n",
       "      <th>3</th>\n",
       "      <td>['Cyclopolis Systems']</td>\n",
       "      <td>cyclopolis-maroussi</td>\n",
       "      <td>Cyclopolis</td>\n",
       "      <td>Maroussi</td>\n",
       "      <td>GR</td>\n",
       "      <td>38.056872</td>\n",
       "      <td>23.808330</td>\n",
       "    </tr>\n",
       "    <tr>\n",
       "      <th>4</th>\n",
       "      <td>['Groundwork', 'Slough Borough Council', 'ITS']</td>\n",
       "      <td>cycle-hire-slough</td>\n",
       "      <td>Cycle Hire</td>\n",
       "      <td>Slough</td>\n",
       "      <td>GB</td>\n",
       "      <td>51.511350</td>\n",
       "      <td>-0.591562</td>\n",
       "    </tr>\n",
       "    <tr>\n",
       "      <th>...</th>\n",
       "      <td>...</td>\n",
       "      <td>...</td>\n",
       "      <td>...</td>\n",
       "      <td>...</td>\n",
       "      <td>...</td>\n",
       "      <td>...</td>\n",
       "      <td>...</td>\n",
       "    </tr>\n",
       "    <tr>\n",
       "      <th>610</th>\n",
       "      <td>None</td>\n",
       "      <td>acces-velo-saguenay</td>\n",
       "      <td>Accès Vélo</td>\n",
       "      <td>Saguenay</td>\n",
       "      <td>CA</td>\n",
       "      <td>48.433333</td>\n",
       "      <td>-71.083333</td>\n",
       "    </tr>\n",
       "    <tr>\n",
       "      <th>611</th>\n",
       "      <td>['Vilvolt CA Épinal', \"Communauté d'agglomérat...</td>\n",
       "      <td>vilvolt</td>\n",
       "      <td>Vilvolt</td>\n",
       "      <td>Epinal</td>\n",
       "      <td>FR</td>\n",
       "      <td>48.183300</td>\n",
       "      <td>6.450800</td>\n",
       "    </tr>\n",
       "    <tr>\n",
       "      <th>612</th>\n",
       "      <td>['VeloBaie', 'Fifteen SAS']</td>\n",
       "      <td>velobaie</td>\n",
       "      <td>VeloBaie</td>\n",
       "      <td>Saint-Brieuc</td>\n",
       "      <td>FR</td>\n",
       "      <td>48.514000</td>\n",
       "      <td>-2.765000</td>\n",
       "    </tr>\n",
       "    <tr>\n",
       "      <th>613</th>\n",
       "      <td>['Donkey Republic']</td>\n",
       "      <td>donkey-gh</td>\n",
       "      <td>Donkey Republic - Gent</td>\n",
       "      <td>Gent</td>\n",
       "      <td>BE</td>\n",
       "      <td>51.050000</td>\n",
       "      <td>3.730300</td>\n",
       "    </tr>\n",
       "    <tr>\n",
       "      <th>614</th>\n",
       "      <td>['JCDecaux']</td>\n",
       "      <td>mbajk</td>\n",
       "      <td>MBajk</td>\n",
       "      <td>Maribor</td>\n",
       "      <td>SI</td>\n",
       "      <td>46.554700</td>\n",
       "      <td>15.645900</td>\n",
       "    </tr>\n",
       "  </tbody>\n",
       "</table>\n",
       "<p>615 rows × 7 columns</p>\n",
       "</div>"
      ],
      "text/plain": [
       "                                               company           network_id  \\\n",
       "0                                   ['ЗАО «СитиБайк»']      velobike-moscow   \n",
       "1                     ['Urban Infrastructure Partner']      baerum-bysykkel   \n",
       "2                                ['Comunicare S.r.l.']     bicincitta-siena   \n",
       "3                               ['Cyclopolis Systems']  cyclopolis-maroussi   \n",
       "4      ['Groundwork', 'Slough Borough Council', 'ITS']    cycle-hire-slough   \n",
       "..                                                 ...                  ...   \n",
       "610                                               None  acces-velo-saguenay   \n",
       "611  ['Vilvolt CA Épinal', \"Communauté d'agglomérat...              vilvolt   \n",
       "612                        ['VeloBaie', 'Fifteen SAS']             velobaie   \n",
       "613                                ['Donkey Republic']            donkey-gh   \n",
       "614                                       ['JCDecaux']                mbajk   \n",
       "\n",
       "                       name          city country   latitude  longitude  \n",
       "0                  Velobike        Moscow      RU  55.750000  37.616667  \n",
       "1                  Bysykkel         Bærum      NO  59.894550  10.546343  \n",
       "2                Bicincittà         Siena      IT  43.318600  11.330600  \n",
       "3                Cyclopolis      Maroussi      GR  38.056872  23.808330  \n",
       "4                Cycle Hire        Slough      GB  51.511350  -0.591562  \n",
       "..                      ...           ...     ...        ...        ...  \n",
       "610              Accès Vélo      Saguenay      CA  48.433333 -71.083333  \n",
       "611                 Vilvolt        Epinal      FR  48.183300   6.450800  \n",
       "612                VeloBaie  Saint-Brieuc      FR  48.514000  -2.765000  \n",
       "613  Donkey Republic - Gent          Gent      BE  51.050000   3.730300  \n",
       "614                   MBajk       Maribor      SI  46.554700  15.645900  \n",
       "\n",
       "[615 rows x 7 columns]"
      ]
     },
     "execution_count": 93,
     "metadata": {},
     "output_type": "execute_result"
    }
   ],
   "source": [
    "sql = 'SELECT * FROM networks'\n",
    "pd.read_sql_query(sql, conn)"
   ]
  },
  {
   "cell_type": "code",
   "execution_count": 94,
   "metadata": {
    "tags": []
   },
   "outputs": [
    {
     "name": "stdout",
     "output_type": "stream",
     "text": [
      "import to database completed\n"
     ]
    }
   ],
   "source": [
    "# commit and close\n",
    "conn.commit()\n",
    "conn.close()\n",
    "print('import to database completed')"
   ]
  },
  {
   "cell_type": "markdown",
   "metadata": {},
   "source": [
    "Look at the data before and after the join to validate your data."
   ]
  },
  {
   "cell_type": "code",
   "execution_count": null,
   "metadata": {},
   "outputs": [],
   "source": []
  }
 ],
 "metadata": {
  "kernelspec": {
   "display_name": "Python 3 (ipykernel)",
   "language": "python",
   "name": "python3"
  },
  "language_info": {
   "codemirror_mode": {
    "name": "ipython",
    "version": 3
   },
   "file_extension": ".py",
   "mimetype": "text/x-python",
   "name": "python",
   "nbconvert_exporter": "python",
   "pygments_lexer": "ipython3",
   "version": "3.10.9"
  }
 },
 "nbformat": 4,
 "nbformat_minor": 4
}
