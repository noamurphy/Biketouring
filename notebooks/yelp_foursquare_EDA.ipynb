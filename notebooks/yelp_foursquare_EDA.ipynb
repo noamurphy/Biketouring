{
 "cells": [
  {
   "cell_type": "markdown",
   "metadata": {
    "tags": []
   },
   "source": [
    "## Set-up"
   ]
  },
  {
   "cell_type": "code",
   "execution_count": 1,
   "metadata": {
    "tags": []
   },
   "outputs": [],
   "source": [
    "# import libraries\n",
    "from IPython.display import JSON #REMOVE ONCE NOTEBOOK IS COMPLETE\n",
    "import requests\n",
    "import pandas as pd\n",
    "import os\n",
    "import time"
   ]
  },
  {
   "cell_type": "code",
   "execution_count": 2,
   "metadata": {},
   "outputs": [],
   "source": [
    "# set constants:\n",
    "FOURSQUARE_API_KEY = os.getenv('FOURSQUARE_API_KEY')\n",
    "YELP_API_KEY = os.getenv('YELP_API_KEY')\n",
    "CALL_DELAY = 1 # pause (in s) after each call"
   ]
  },
  {
   "cell_type": "code",
   "execution_count": 3,
   "metadata": {
    "tags": []
   },
   "outputs": [],
   "source": [
    "# load data\n",
    "palmaBikes = pd.read_csv('Statistical-Modelling/data/palmaBikes.csv')"
   ]
  },
  {
   "cell_type": "markdown",
   "metadata": {
    "tags": []
   },
   "source": [
    "# Foursquare"
   ]
  },
  {
   "cell_type": "markdown",
   "metadata": {},
   "source": [
    "Notes:\n",
    "- Need to adjust city_bikes.ipynb to provide name and address of bike station (more valuable than lat,long as an output)\n",
    "    - Then add processing for name and address of bike stations\n",
    "- Neet to either find a way to handle warnings, or to change all df.append to df.concat"
   ]
  },
  {
   "cell_type": "markdown",
   "metadata": {},
   "source": [
    "Update notes:\n",
    "- The getPOIDetails_FSQR() function has been assimilated into getPOIs_FSQR()\n",
    "- adjusted call to provide 'rating' and 'stats'\n",
    "- Added call delay\n",
    "- Changed API_KEY to FOURSQUARE_API_KEY for clarity\n",
    "- Removed popularity and total_stats\n",
    "- Added manual insertion of params into url"
   ]
  },
  {
   "cell_type": "code",
   "execution_count": 42,
   "metadata": {
    "tags": []
   },
   "outputs": [],
   "source": [
    "# define Foursquare specific functions\n",
    "\n",
    "# format lat and long for Foursquare API\n",
    "def getLatLong(cityBikes_df):\n",
    "    ll_list = []\n",
    "    for station in cityBikes_df.index:\n",
    "        ll_list.append('{},{}'.format(str(cityBikes_df.iloc[station]['latitude']), str(cityBikes_df.iloc[station]['longitude'])))\n",
    "    return ll_list\n",
    "\n",
    "\n",
    "def getPOIs_FSQR(cityBikes_df):\n",
    "    \n",
    "    # initialize dataframe\n",
    "    df = pd.DataFrame(columns = ['category', 'distance', 'fsq_id', 'name', 'rating', 'ratings'])\n",
    "    \n",
    "    # format latitude and longitude for Foursquare API\n",
    "    cityBikes_df['ll'] = (pd.Series(getLatLong(palmaBikes)))\n",
    "    \n",
    "    for station in cityBikes_df.index:\n",
    "        \n",
    "        # make API call\n",
    "        params = {\n",
    "            'll': cityBikes_df.iloc[station]['ll'],\n",
    "            'radius': '1000',\n",
    "            'fields': ['categories', 'fsq_id', 'distance', 'name', 'rating', 'stats'],\n",
    "            'sort': 'DISTANCE',\n",
    "            'limit': '10'\n",
    "        }\n",
    "        \n",
    "        url = f\"https://api.foursquare.com/v3/places/search?ll={cityBikes_df.iloc[station]['ll']}&radius={params['radius']}&fields={params['fields'][0]}%2C{params['fields'][1]}%2C{params['fields'][2]}%2C{params['fields'][3]}%2C{params['fields'][4]}%2C{params['fields'][5]}&sort={params['sort']}&limit={params['limit']}\"\n",
    "\n",
    "        headers = {\n",
    "            \"Accept\": \"application/json\",\n",
    "            \"Authorization\": FOURSQUARE_API_KEY\n",
    "        }\n",
    "\n",
    "        response = requests.request(\"GET\", url, headers=headers).json()\n",
    "        time.sleep(CALL_DELAY)\n",
    "        \n",
    "        for POI in response['results']:\n",
    "            # collecting category, distance, fsq_id, name, rating, ratings\n",
    "            try:\n",
    "                category = POI['categories'][0]['name']\n",
    "            except:\n",
    "                None\n",
    "            distance = POI['distance']\n",
    "            fsq_id = POI['fsq_id']\n",
    "            name = POI['name']\n",
    "            try:\n",
    "                rating = POI['rating']\n",
    "            except:\n",
    "                rating = None\n",
    "            try:\n",
    "                ratings = POI['stats']['total_ratings']\n",
    "            except:\n",
    "                ratings = None\n",
    "\n",
    "            # save to dataframe\n",
    "            df = df.append({'category': category, 'distance': distance, \n",
    "                            'fsq_id': fsq_id, 'name': name, 'rating': rating,\n",
    "                            'ratings':ratings}, ignore_index=True)\n",
    "        \n",
    "    return df"
   ]
  },
  {
   "cell_type": "code",
   "execution_count": null,
   "metadata": {
    "tags": []
   },
   "outputs": [],
   "source": [
    "results_FSQR = getPOIs_FSQR(palmaBikes)"
   ]
  },
  {
   "cell_type": "code",
   "execution_count": 44,
   "metadata": {
    "tags": []
   },
   "outputs": [
    {
     "data": {
      "text/html": [
       "<div>\n",
       "<style scoped>\n",
       "    .dataframe tbody tr th:only-of-type {\n",
       "        vertical-align: middle;\n",
       "    }\n",
       "\n",
       "    .dataframe tbody tr th {\n",
       "        vertical-align: top;\n",
       "    }\n",
       "\n",
       "    .dataframe thead th {\n",
       "        text-align: right;\n",
       "    }\n",
       "</style>\n",
       "<table border=\"1\" class=\"dataframe\">\n",
       "  <thead>\n",
       "    <tr style=\"text-align: right;\">\n",
       "      <th></th>\n",
       "      <th>category</th>\n",
       "      <th>distance</th>\n",
       "      <th>fsq_id</th>\n",
       "      <th>name</th>\n",
       "      <th>rating</th>\n",
       "      <th>ratings</th>\n",
       "    </tr>\n",
       "  </thead>\n",
       "  <tbody>\n",
       "    <tr>\n",
       "      <th>0</th>\n",
       "      <td>Farmers' Market</td>\n",
       "      <td>43</td>\n",
       "      <td>4bc84d218b7c9c748cd337cf</td>\n",
       "      <td>Mercat de Pere Garau</td>\n",
       "      <td>8.4</td>\n",
       "      <td>75</td>\n",
       "    </tr>\n",
       "    <tr>\n",
       "      <th>1</th>\n",
       "      <td>Café</td>\n",
       "      <td>108</td>\n",
       "      <td>4d331da3329e54811bbcb61d</td>\n",
       "      <td>Churreria la Artesana</td>\n",
       "      <td>6.2</td>\n",
       "      <td>8</td>\n",
       "    </tr>\n",
       "    <tr>\n",
       "      <th>2</th>\n",
       "      <td>Taco Restaurant</td>\n",
       "      <td>299</td>\n",
       "      <td>4f5e6a0ce4b0028cf960560b</td>\n",
       "      <td>Chapultepec</td>\n",
       "      <td>9.0</td>\n",
       "      <td>77</td>\n",
       "    </tr>\n",
       "    <tr>\n",
       "      <th>3</th>\n",
       "      <td>Grocery Store / Supermarket</td>\n",
       "      <td>313</td>\n",
       "      <td>4f6b5cc2e4b0b8a88349b5b2</td>\n",
       "      <td>Alimentos de China</td>\n",
       "      <td>None</td>\n",
       "      <td>None</td>\n",
       "    </tr>\n",
       "    <tr>\n",
       "      <th>4</th>\n",
       "      <td>Grocery Store / Supermarket</td>\n",
       "      <td>326</td>\n",
       "      <td>4cfe90b759c7b60c34f29f77</td>\n",
       "      <td>Mercadona</td>\n",
       "      <td>5.6</td>\n",
       "      <td>9</td>\n",
       "    </tr>\n",
       "    <tr>\n",
       "      <th>...</th>\n",
       "      <td>...</td>\n",
       "      <td>...</td>\n",
       "      <td>...</td>\n",
       "      <td>...</td>\n",
       "      <td>...</td>\n",
       "      <td>...</td>\n",
       "    </tr>\n",
       "    <tr>\n",
       "      <th>365</th>\n",
       "      <td>Tapas Restaurant</td>\n",
       "      <td>162</td>\n",
       "      <td>4bedb0d0767dc9b61152d3e9</td>\n",
       "      <td>Tast</td>\n",
       "      <td>7.8</td>\n",
       "      <td>92</td>\n",
       "    </tr>\n",
       "    <tr>\n",
       "      <th>366</th>\n",
       "      <td>Asian Restaurant</td>\n",
       "      <td>175</td>\n",
       "      <td>4baa0b0ef964a52022463ae3</td>\n",
       "      <td>Arume</td>\n",
       "      <td>8.3</td>\n",
       "      <td>70</td>\n",
       "    </tr>\n",
       "    <tr>\n",
       "      <th>367</th>\n",
       "      <td>Deli</td>\n",
       "      <td>175</td>\n",
       "      <td>4da32eb87ccc816e1773777b</td>\n",
       "      <td>Sa Formatgeria</td>\n",
       "      <td>8.0</td>\n",
       "      <td>14</td>\n",
       "    </tr>\n",
       "    <tr>\n",
       "      <th>368</th>\n",
       "      <td>Seafood Restaurant</td>\n",
       "      <td>183</td>\n",
       "      <td>4f4a410be4b04587825473be</td>\n",
       "      <td>Casa Gallega</td>\n",
       "      <td>7.5</td>\n",
       "      <td>210</td>\n",
       "    </tr>\n",
       "    <tr>\n",
       "      <th>369</th>\n",
       "      <td>Ice Cream Parlor</td>\n",
       "      <td>197</td>\n",
       "      <td>567922ea498ef781b33ecd41</td>\n",
       "      <td>Häagen-Dazs</td>\n",
       "      <td>8.0</td>\n",
       "      <td>19</td>\n",
       "    </tr>\n",
       "  </tbody>\n",
       "</table>\n",
       "<p>370 rows × 6 columns</p>\n",
       "</div>"
      ],
      "text/plain": [
       "                        category distance                    fsq_id  \\\n",
       "0                Farmers' Market       43  4bc84d218b7c9c748cd337cf   \n",
       "1                           Café      108  4d331da3329e54811bbcb61d   \n",
       "2                Taco Restaurant      299  4f5e6a0ce4b0028cf960560b   \n",
       "3    Grocery Store / Supermarket      313  4f6b5cc2e4b0b8a88349b5b2   \n",
       "4    Grocery Store / Supermarket      326  4cfe90b759c7b60c34f29f77   \n",
       "..                           ...      ...                       ...   \n",
       "365             Tapas Restaurant      162  4bedb0d0767dc9b61152d3e9   \n",
       "366             Asian Restaurant      175  4baa0b0ef964a52022463ae3   \n",
       "367                         Deli      175  4da32eb87ccc816e1773777b   \n",
       "368           Seafood Restaurant      183  4f4a410be4b04587825473be   \n",
       "369             Ice Cream Parlor      197  567922ea498ef781b33ecd41   \n",
       "\n",
       "                      name rating ratings  \n",
       "0     Mercat de Pere Garau    8.4      75  \n",
       "1    Churreria la Artesana    6.2       8  \n",
       "2              Chapultepec    9.0      77  \n",
       "3       Alimentos de China   None    None  \n",
       "4                Mercadona    5.6       9  \n",
       "..                     ...    ...     ...  \n",
       "365                   Tast    7.8      92  \n",
       "366                  Arume    8.3      70  \n",
       "367         Sa Formatgeria    8.0      14  \n",
       "368           Casa Gallega    7.5     210  \n",
       "369            Häagen-Dazs    8.0      19  \n",
       "\n",
       "[370 rows x 6 columns]"
      ]
     },
     "execution_count": 44,
     "metadata": {},
     "output_type": "execute_result"
    }
   ],
   "source": [
    "results_FSQR"
   ]
  },
  {
   "cell_type": "markdown",
   "metadata": {},
   "source": [
    "# Yelp"
   ]
  },
  {
   "cell_type": "markdown",
   "metadata": {},
   "source": [
    "Send a request to Yelp with a small radius (1000m) for all the bike stations in your city of choice. "
   ]
  },
  {
   "cell_type": "code",
   "execution_count": null,
   "metadata": {},
   "outputs": [],
   "source": []
  },
  {
   "cell_type": "markdown",
   "metadata": {},
   "source": [
    "Parse through the response to get the POI (such as restaurants, bars, etc) details you want (ratings, name, location, etc)"
   ]
  },
  {
   "cell_type": "code",
   "execution_count": null,
   "metadata": {},
   "outputs": [],
   "source": []
  },
  {
   "cell_type": "markdown",
   "metadata": {},
   "source": [
    "Put your parsed results into a DataFrame"
   ]
  },
  {
   "cell_type": "markdown",
   "metadata": {},
   "source": []
  },
  {
   "cell_type": "markdown",
   "metadata": {},
   "source": [
    "# Comparing Results"
   ]
  },
  {
   "cell_type": "markdown",
   "metadata": {},
   "source": [
    "Which API provided you with more complete data? Provide an explanation. "
   ]
  },
  {
   "cell_type": "markdown",
   "metadata": {},
   "source": []
  },
  {
   "cell_type": "markdown",
   "metadata": {},
   "source": [
    "Get the top 10 restaurants according to their rating"
   ]
  },
  {
   "cell_type": "code",
   "execution_count": null,
   "metadata": {},
   "outputs": [],
   "source": []
  }
 ],
 "metadata": {
  "kernelspec": {
   "display_name": "Python 3 (ipykernel)",
   "language": "python",
   "name": "python3"
  },
  "language_info": {
   "codemirror_mode": {
    "name": "ipython",
    "version": 3
   },
   "file_extension": ".py",
   "mimetype": "text/x-python",
   "name": "python",
   "nbconvert_exporter": "python",
   "pygments_lexer": "ipython3",
   "version": "3.10.9"
  }
 },
 "nbformat": 4,
 "nbformat_minor": 4
}
