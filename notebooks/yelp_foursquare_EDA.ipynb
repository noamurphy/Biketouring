{
 "cells": [
  {
   "cell_type": "markdown",
   "metadata": {},
   "source": [
    "Notes:\n",
    "- Both APIs could run in parallel on seperate threads to save time waiting for the call delay\n",
    "- Fsqr ratings need to be halved to standardize with yelp\n",
    "- POI_results folder in data should be renamed to query_results, and csvs from poi_\\<API\\> to query_\\<API\\>\n",
    "- a decision matrix could be used to automate the Yelp vs Foursquare comparison"
   ]
  },
  {
   "cell_type": "code",
   "execution_count": 1,
   "metadata": {
    "tags": []
   },
   "outputs": [],
   "source": [
    "# import libraries\n",
    "import requests\n",
    "import pandas as pd\n",
    "import matplotlib.pyplot as plt\n",
    "import seaborn as sns\n",
    "import os\n",
    "import time"
   ]
  },
  {
   "cell_type": "markdown",
   "metadata": {
    "tags": []
   },
   "source": [
    "## Set-up"
   ]
  },
  {
   "cell_type": "code",
   "execution_count": 2,
   "metadata": {},
   "outputs": [],
   "source": [
    "# set constants:\n",
    "FOURSQUARE_API_KEY = os.getenv('FOURSQUARE_API_KEY')\n",
    "YELP_API_KEY = os.getenv('YELP_API_KEY')\n",
    "CALL_DELAY = 0.25 # pause (in s) after each call"
   ]
  },
  {
   "cell_type": "code",
   "execution_count": 3,
   "metadata": {
    "tags": []
   },
   "outputs": [],
   "source": [
    "# set notebook parameters:\n",
    "\n",
    "# city data to load\n",
    "city = 'Palma'\n",
    "\n",
    "# yelp and foursquare query parameters\n",
    "radius = '1000'\n",
    "limit = '10'\n",
    "sort = 'distance' #experimental"
   ]
  },
  {
   "cell_type": "markdown",
   "metadata": {
    "jp-MarkdownHeadingCollapsed": true,
    "tags": []
   },
   "source": [
    "# Foursquare"
   ]
  },
  {
   "cell_type": "code",
   "execution_count": 4,
   "metadata": {
    "tags": []
   },
   "outputs": [],
   "source": [
    "# define Foursquare specific functions\n",
    "\n",
    "# format lat and long for Foursquare API\n",
    "def getLatLong(cityBikes_df):\n",
    "    ll_list = []\n",
    "    for station in cityBikes_df.index:\n",
    "        ll_list.append('{},{}'.format(cityBikes_df.iloc[station]['latitude'], cityBikes_df.iloc[station]['longitude']))\n",
    "    return ll_list\n",
    "\n",
    "\n",
    "def getPOIs_FSQR(cityBikes_df):\n",
    "    \n",
    "    # initialize dataframe\n",
    "    df = pd.DataFrame(columns = ['station_name', 'station_id', 'API', 'id', 'category', 'distance', 'name', 'rating', 'ratings'])\n",
    "    \n",
    "    # format latitude and longitude for Foursquare API\n",
    "    cityBikes_df['ll'] = (pd.Series(getLatLong(CITY_BIKES)))\n",
    "    \n",
    "    for station in cityBikes_df.index:\n",
    "        \n",
    "        # make API call\n",
    "        params = {\n",
    "            'll': cityBikes_df.iloc[station]['ll'],\n",
    "            'radius': radius,\n",
    "            'categories': '13000', #Dining and Drinking\n",
    "            'fields': ['categories', 'fsq_id', 'distance', 'name', 'rating', 'stats'],\n",
    "            'sort': str.upper(sort),\n",
    "            'limit': limit\n",
    "        }\n",
    "        \n",
    "        url = f\"https://api.foursquare.com/v3/places/search?ll={cityBikes_df.iloc[station]['ll']}&categories={params['categories']}&radius={params['radius']}&fields={params['fields'][0]}%2C{params['fields'][1]}%2C{params['fields'][2]}%2C{params['fields'][3]}%2C{params['fields'][4]}%2C{params['fields'][5]}&sort={params['sort']}&limit={params['limit']}\"\n",
    "\n",
    "        headers = {\n",
    "            \"Accept\": \"application/json\",\n",
    "            \"Authorization\": FOURSQUARE_API_KEY\n",
    "        }\n",
    "\n",
    "        response = requests.request(\"GET\", url, headers=headers).json()\n",
    "        time.sleep(CALL_DELAY)\n",
    "        \n",
    "        for POI in response['results']:\n",
    "            \n",
    "            # collecting category, distance, fsq_id, name, rating, ratings\n",
    "            try:\n",
    "                category = POI['categories'][0]['name']\n",
    "            except:\n",
    "                None\n",
    "            distance = POI['distance']\n",
    "            fsq_id = POI['fsq_id']\n",
    "            name = POI['name']\n",
    "            try:\n",
    "                rating = POI['rating']\n",
    "            except:\n",
    "                rating = None\n",
    "            try:\n",
    "                ratings = POI['stats']['total_ratings']\n",
    "            except:\n",
    "                ratings = None\n",
    "                \n",
    "            # tag as FSQR\n",
    "            API = \"FSQR\"\n",
    "            \n",
    "            # add station information\n",
    "            station_name = cityBikes_df.iloc[station]['name']\n",
    "            station_id = cityBikes_df.iloc[station]['station_id']\n",
    "            \n",
    "            # save to dataframe\n",
    "            new_row = pd.Series({'station_name': station_name, 'station_id': station_id,\n",
    "                       'API': API, 'id': fsq_id, 'category': category,\n",
    "                       'distance': distance, 'name': name, 'rating': rating,\n",
    "                       'ratings':ratings})\n",
    "            df = pd.concat([df, new_row.to_frame().T], ignore_index=True)\n",
    "        \n",
    "    return df"
   ]
  },
  {
   "cell_type": "markdown",
   "metadata": {
    "jp-MarkdownHeadingCollapsed": true,
    "tags": []
   },
   "source": [
    "# Yelp"
   ]
  },
  {
   "cell_type": "code",
   "execution_count": 5,
   "metadata": {},
   "outputs": [],
   "source": [
    "#define yelp specific functions\n",
    "\n",
    "def getPOIs_YELP(cityBikes_df): \n",
    "\n",
    "    # initialize dataframe\n",
    "    df = pd.DataFrame(columns = ['station_name', 'station_id', 'API', 'id', 'category', 'distance', 'name', 'rating', 'ratings'])\n",
    "    \n",
    "    for station in cityBikes_df.index:\n",
    "        \n",
    "        # make API call\n",
    "        params = {\n",
    "            'latitude': cityBikes_df.iloc[station]['latitude'],\n",
    "            'longitude': cityBikes_df.iloc[station]['longitude'],\n",
    "            'radius': radius,\n",
    "            'sort': sort,\n",
    "            'limit': limit\n",
    "        }\n",
    "        url = (f\"https://api.yelp.com/v3/businesses/search?latitude={params['latitude']}&longitude={params['longitude']}&radius={params['radius']}&sort_by={params['sort']}&limit={params['limit']}\")\n",
    "        \n",
    "        headers = {\n",
    "            \"accept\": \"application/json\",\n",
    "            \"Authorization\": \"bearer \" + YELP_API_KEY\n",
    "        }\n",
    "\n",
    "        response = requests.get(url, headers=headers).json()\n",
    "        time.sleep(CALL_DELAY)\n",
    "                \n",
    "        for POI in response['businesses']:\n",
    "            \n",
    "            # collect id, category, distance, name, rating, ratings\n",
    "            yelp_id = POI['id']\n",
    "            try:\n",
    "                category = POI['categories'][0]['title']\n",
    "            except:\n",
    "                None\n",
    "            distance = POI['distance']\n",
    "            name = POI['name']\n",
    "            rating = POI['rating']\n",
    "            ratings = POI['review_count']\n",
    "            \n",
    "            # tag as Yelp\n",
    "            API = \"YELP\"\n",
    "            \n",
    "            # add station information\n",
    "            station_name = cityBikes_df.iloc[station]['name']\n",
    "            station_id = cityBikes_df.iloc[station]['station_id']\n",
    "            \n",
    "            # save to dataframe\n",
    "            new_row = pd.Series({'station_name': station_name, 'station_id': station_id,\n",
    "                       'API': API, 'id': yelp_id, 'category': category,\n",
    "                       'distance': distance, 'name': name, 'rating': rating,\n",
    "                       'ratings':ratings})\n",
    "            df = pd.concat([df, new_row.to_frame().T], ignore_index=True)\n",
    "            \n",
    "    return df"
   ]
  },
  {
   "cell_type": "markdown",
   "metadata": {},
   "source": [
    "# Main"
   ]
  },
  {
   "cell_type": "code",
   "execution_count": 6,
   "metadata": {
    "tags": []
   },
   "outputs": [],
   "source": [
    "# load data\n",
    "CITY_BIKES = pd.read_csv(f'../data/Networks/{city}Bikes.csv')"
   ]
  },
  {
   "cell_type": "code",
   "execution_count": 7,
   "metadata": {},
   "outputs": [],
   "source": [
    "# query Foursquare\n",
    "results_FSQR = getPOIs_FSQR(CITY_BIKES)"
   ]
  },
  {
   "cell_type": "code",
   "execution_count": 8,
   "metadata": {
    "tags": []
   },
   "outputs": [
    {
     "data": {
      "text/html": [
       "<div>\n",
       "<style scoped>\n",
       "    .dataframe tbody tr th:only-of-type {\n",
       "        vertical-align: middle;\n",
       "    }\n",
       "\n",
       "    .dataframe tbody tr th {\n",
       "        vertical-align: top;\n",
       "    }\n",
       "\n",
       "    .dataframe thead th {\n",
       "        text-align: right;\n",
       "    }\n",
       "</style>\n",
       "<table border=\"1\" class=\"dataframe\">\n",
       "  <thead>\n",
       "    <tr style=\"text-align: right;\">\n",
       "      <th></th>\n",
       "      <th>station_name</th>\n",
       "      <th>station_id</th>\n",
       "      <th>API</th>\n",
       "      <th>id</th>\n",
       "      <th>category</th>\n",
       "      <th>distance</th>\n",
       "      <th>name</th>\n",
       "      <th>rating</th>\n",
       "      <th>ratings</th>\n",
       "    </tr>\n",
       "  </thead>\n",
       "  <tbody>\n",
       "    <tr>\n",
       "      <th>0</th>\n",
       "      <td>F. MANUEL HERREROS</td>\n",
       "      <td>abb1d34b9bf558d40cd02e26ab1dc8b3</td>\n",
       "      <td>FSQR</td>\n",
       "      <td>4e99f8f029c27d6ad668a7ca</td>\n",
       "      <td>Bar</td>\n",
       "      <td>212</td>\n",
       "      <td>Morrison Bar</td>\n",
       "      <td>None</td>\n",
       "      <td>None</td>\n",
       "    </tr>\n",
       "    <tr>\n",
       "      <th>1</th>\n",
       "      <td>F. MANUEL HERREROS</td>\n",
       "      <td>abb1d34b9bf558d40cd02e26ab1dc8b3</td>\n",
       "      <td>FSQR</td>\n",
       "      <td>77d1e5be0ab5fcd4ec85c498</td>\n",
       "      <td>Pizzeria</td>\n",
       "      <td>276</td>\n",
       "      <td>Pizza Nostra Ciutat</td>\n",
       "      <td>None</td>\n",
       "      <td>None</td>\n",
       "    </tr>\n",
       "    <tr>\n",
       "      <th>2</th>\n",
       "      <td>F. MANUEL HERREROS</td>\n",
       "      <td>abb1d34b9bf558d40cd02e26ab1dc8b3</td>\n",
       "      <td>FSQR</td>\n",
       "      <td>4f5e6a0ce4b0028cf960560b</td>\n",
       "      <td>Taco Restaurant</td>\n",
       "      <td>299</td>\n",
       "      <td>Chapultepec</td>\n",
       "      <td>9.0</td>\n",
       "      <td>77</td>\n",
       "    </tr>\n",
       "    <tr>\n",
       "      <th>3</th>\n",
       "      <td>F. MANUEL HERREROS</td>\n",
       "      <td>abb1d34b9bf558d40cd02e26ab1dc8b3</td>\n",
       "      <td>FSQR</td>\n",
       "      <td>5048f886e4b0690ac775f082</td>\n",
       "      <td>Chinese Restaurant</td>\n",
       "      <td>306</td>\n",
       "      <td>Nong Jia Le</td>\n",
       "      <td>None</td>\n",
       "      <td>None</td>\n",
       "    </tr>\n",
       "    <tr>\n",
       "      <th>4</th>\n",
       "      <td>F. MANUEL HERREROS</td>\n",
       "      <td>abb1d34b9bf558d40cd02e26ab1dc8b3</td>\n",
       "      <td>FSQR</td>\n",
       "      <td>4d3de317af8ca1436f0110f7</td>\n",
       "      <td>Asian Restaurant</td>\n",
       "      <td>331</td>\n",
       "      <td>Shi Shan Xuan</td>\n",
       "      <td>8.0</td>\n",
       "      <td>120</td>\n",
       "    </tr>\n",
       "  </tbody>\n",
       "</table>\n",
       "</div>"
      ],
      "text/plain": [
       "         station_name                        station_id   API  \\\n",
       "0  F. MANUEL HERREROS  abb1d34b9bf558d40cd02e26ab1dc8b3  FSQR   \n",
       "1  F. MANUEL HERREROS  abb1d34b9bf558d40cd02e26ab1dc8b3  FSQR   \n",
       "2  F. MANUEL HERREROS  abb1d34b9bf558d40cd02e26ab1dc8b3  FSQR   \n",
       "3  F. MANUEL HERREROS  abb1d34b9bf558d40cd02e26ab1dc8b3  FSQR   \n",
       "4  F. MANUEL HERREROS  abb1d34b9bf558d40cd02e26ab1dc8b3  FSQR   \n",
       "\n",
       "                         id            category distance                 name  \\\n",
       "0  4e99f8f029c27d6ad668a7ca                 Bar      212         Morrison Bar   \n",
       "1  77d1e5be0ab5fcd4ec85c498            Pizzeria      276  Pizza Nostra Ciutat   \n",
       "2  4f5e6a0ce4b0028cf960560b     Taco Restaurant      299          Chapultepec   \n",
       "3  5048f886e4b0690ac775f082  Chinese Restaurant      306          Nong Jia Le   \n",
       "4  4d3de317af8ca1436f0110f7    Asian Restaurant      331        Shi Shan Xuan   \n",
       "\n",
       "  rating ratings  \n",
       "0   None    None  \n",
       "1   None    None  \n",
       "2    9.0      77  \n",
       "3   None    None  \n",
       "4    8.0     120  "
      ]
     },
     "execution_count": 8,
     "metadata": {},
     "output_type": "execute_result"
    }
   ],
   "source": [
    "results_FSQR.head()"
   ]
  },
  {
   "cell_type": "code",
   "execution_count": 9,
   "metadata": {},
   "outputs": [],
   "source": [
    "# query Yelp\n",
    "results_YELP = getPOIs_YELP(CITY_BIKES)"
   ]
  },
  {
   "cell_type": "code",
   "execution_count": 10,
   "metadata": {
    "tags": []
   },
   "outputs": [
    {
     "data": {
      "text/html": [
       "<div>\n",
       "<style scoped>\n",
       "    .dataframe tbody tr th:only-of-type {\n",
       "        vertical-align: middle;\n",
       "    }\n",
       "\n",
       "    .dataframe tbody tr th {\n",
       "        vertical-align: top;\n",
       "    }\n",
       "\n",
       "    .dataframe thead th {\n",
       "        text-align: right;\n",
       "    }\n",
       "</style>\n",
       "<table border=\"1\" class=\"dataframe\">\n",
       "  <thead>\n",
       "    <tr style=\"text-align: right;\">\n",
       "      <th></th>\n",
       "      <th>station_name</th>\n",
       "      <th>station_id</th>\n",
       "      <th>API</th>\n",
       "      <th>id</th>\n",
       "      <th>category</th>\n",
       "      <th>distance</th>\n",
       "      <th>name</th>\n",
       "      <th>rating</th>\n",
       "      <th>ratings</th>\n",
       "    </tr>\n",
       "  </thead>\n",
       "  <tbody>\n",
       "    <tr>\n",
       "      <th>0</th>\n",
       "      <td>F. MANUEL HERREROS</td>\n",
       "      <td>abb1d34b9bf558d40cd02e26ab1dc8b3</td>\n",
       "      <td>YELP</td>\n",
       "      <td>BWWXOHCcfSNXl3yeGcErsw</td>\n",
       "      <td>Chinese</td>\n",
       "      <td>324.543739</td>\n",
       "      <td>Shi Shan Xuan</td>\n",
       "      <td>5.0</td>\n",
       "      <td>3</td>\n",
       "    </tr>\n",
       "    <tr>\n",
       "      <th>1</th>\n",
       "      <td>F. MANUEL HERREROS</td>\n",
       "      <td>abb1d34b9bf558d40cd02e26ab1dc8b3</td>\n",
       "      <td>YELP</td>\n",
       "      <td>e3F0HeIfhCByxFN9hUP_cA</td>\n",
       "      <td>Bars</td>\n",
       "      <td>406.299598</td>\n",
       "      <td>Las Caribenas</td>\n",
       "      <td>5.0</td>\n",
       "      <td>1</td>\n",
       "    </tr>\n",
       "    <tr>\n",
       "      <th>2</th>\n",
       "      <td>F. MANUEL HERREROS</td>\n",
       "      <td>abb1d34b9bf558d40cd02e26ab1dc8b3</td>\n",
       "      <td>YELP</td>\n",
       "      <td>8yYthxSx297ic_pIG5D3Lg</td>\n",
       "      <td>Tapas Bars</td>\n",
       "      <td>406.663624</td>\n",
       "      <td>Dehesa Santa Maria</td>\n",
       "      <td>4.0</td>\n",
       "      <td>1</td>\n",
       "    </tr>\n",
       "    <tr>\n",
       "      <th>3</th>\n",
       "      <td>F. MANUEL HERREROS</td>\n",
       "      <td>abb1d34b9bf558d40cd02e26ab1dc8b3</td>\n",
       "      <td>YELP</td>\n",
       "      <td>4tGOSHJlKK2MXkwszcnbdQ</td>\n",
       "      <td>Bars</td>\n",
       "      <td>423.613087</td>\n",
       "      <td>Bar Monaco</td>\n",
       "      <td>4.0</td>\n",
       "      <td>1</td>\n",
       "    </tr>\n",
       "    <tr>\n",
       "      <th>4</th>\n",
       "      <td>F. MANUEL HERREROS</td>\n",
       "      <td>abb1d34b9bf558d40cd02e26ab1dc8b3</td>\n",
       "      <td>YELP</td>\n",
       "      <td>JqjGid2vEcHBvxSbL2Oi5w</td>\n",
       "      <td>Spanish</td>\n",
       "      <td>444.985865</td>\n",
       "      <td>Palacio Chino</td>\n",
       "      <td>5.0</td>\n",
       "      <td>1</td>\n",
       "    </tr>\n",
       "  </tbody>\n",
       "</table>\n",
       "</div>"
      ],
      "text/plain": [
       "         station_name                        station_id   API  \\\n",
       "0  F. MANUEL HERREROS  abb1d34b9bf558d40cd02e26ab1dc8b3  YELP   \n",
       "1  F. MANUEL HERREROS  abb1d34b9bf558d40cd02e26ab1dc8b3  YELP   \n",
       "2  F. MANUEL HERREROS  abb1d34b9bf558d40cd02e26ab1dc8b3  YELP   \n",
       "3  F. MANUEL HERREROS  abb1d34b9bf558d40cd02e26ab1dc8b3  YELP   \n",
       "4  F. MANUEL HERREROS  abb1d34b9bf558d40cd02e26ab1dc8b3  YELP   \n",
       "\n",
       "                       id    category    distance                name rating  \\\n",
       "0  BWWXOHCcfSNXl3yeGcErsw     Chinese  324.543739       Shi Shan Xuan    5.0   \n",
       "1  e3F0HeIfhCByxFN9hUP_cA        Bars  406.299598       Las Caribenas    5.0   \n",
       "2  8yYthxSx297ic_pIG5D3Lg  Tapas Bars  406.663624  Dehesa Santa Maria    4.0   \n",
       "3  4tGOSHJlKK2MXkwszcnbdQ        Bars  423.613087          Bar Monaco    4.0   \n",
       "4  JqjGid2vEcHBvxSbL2Oi5w     Spanish  444.985865       Palacio Chino    5.0   \n",
       "\n",
       "  ratings  \n",
       "0       3  \n",
       "1       1  \n",
       "2       1  \n",
       "3       1  \n",
       "4       1  "
      ]
     },
     "execution_count": 10,
     "metadata": {},
     "output_type": "execute_result"
    }
   ],
   "source": [
    "results_YELP.head()"
   ]
  },
  {
   "cell_type": "code",
   "execution_count": 11,
   "metadata": {
    "tags": []
   },
   "outputs": [],
   "source": [
    "# send query results to csv\n",
    "results_FSQR.to_csv('../data/POI_results/pois_FSQR.csv', index = False)\n",
    "results_YELP.to_csv('../data/POI_results/pois_YELP.csv', index = False)"
   ]
  },
  {
   "cell_type": "markdown",
   "metadata": {},
   "source": [
    "# Comparing Results"
   ]
  },
  {
   "cell_type": "markdown",
   "metadata": {},
   "source": [
    "The following analysis is conducted on results from notebook parameters\\[city = 'Palma', radius = '1000', limit = '10', sort = 'distance'\\] and Foursquare category set to 'Dining and Drinking'."
   ]
  },
  {
   "cell_type": "markdown",
   "metadata": {},
   "source": [
    "Q: Which API provided you with more complete data? Provide an explanation. "
   ]
  },
  {
   "cell_type": "markdown",
   "metadata": {},
   "source": [
    "A: Yelp API provides more complete data, because the API specifies in the documentation that it will not return results without ratings. Run the code cell below for details:"
   ]
  },
  {
   "cell_type": "code",
   "execution_count": 12,
   "metadata": {
    "tags": []
   },
   "outputs": [
    {
     "name": "stdout",
     "output_type": "stream",
     "text": [
      "Information on nulls - Foursquare:\n",
      "<class 'pandas.core.frame.DataFrame'>\n",
      "RangeIndex: 370 entries, 0 to 369\n",
      "Data columns (total 9 columns):\n",
      " #   Column        Non-Null Count  Dtype \n",
      "---  ------        --------------  ----- \n",
      " 0   station_name  370 non-null    object\n",
      " 1   station_id    370 non-null    object\n",
      " 2   API           370 non-null    object\n",
      " 3   id            370 non-null    object\n",
      " 4   category      370 non-null    object\n",
      " 5   distance      370 non-null    object\n",
      " 6   name          370 non-null    object\n",
      " 7   rating        216 non-null    object\n",
      " 8   ratings       216 non-null    object\n",
      "dtypes: object(9)\n",
      "memory usage: 26.1+ KB\n",
      "None\n",
      "\n",
      "154 foursquare results do not have ratings\n",
      "\n",
      "Information on nulls - Yelp:\n",
      "<class 'pandas.core.frame.DataFrame'>\n",
      "RangeIndex: 370 entries, 0 to 369\n",
      "Data columns (total 9 columns):\n",
      " #   Column        Non-Null Count  Dtype \n",
      "---  ------        --------------  ----- \n",
      " 0   station_name  370 non-null    object\n",
      " 1   station_id    370 non-null    object\n",
      " 2   API           370 non-null    object\n",
      " 3   id            370 non-null    object\n",
      " 4   category      370 non-null    object\n",
      " 5   distance      370 non-null    object\n",
      " 6   name          370 non-null    object\n",
      " 7   rating        370 non-null    object\n",
      " 8   ratings       370 non-null    object\n",
      "dtypes: object(9)\n",
      "memory usage: 26.1+ KB\n",
      "None\n",
      "\n",
      "0 yelp results do not have ratings\n"
     ]
    }
   ],
   "source": [
    "print(\"Information on nulls - Foursquare:\")\n",
    "print(results_FSQR.info())\n",
    "print(\"\\n{} foursquare results do not have ratings\".format(results_FSQR['rating'].isna().sum()))\n",
    "print(\"\\nInformation on nulls - Yelp:\")\n",
    "print(results_YELP.info())\n",
    "print(\"\\n{} yelp results do not have ratings\".format(results_YELP['rating'].isna().sum()))"
   ]
  },
  {
   "cell_type": "markdown",
   "metadata": {},
   "source": [
    "Yelp has no null values, while foursquare is missing ratings for some of its returned results. It is important to note that this is not the same as number of ratings missing per unique result, or number of overall average ratings, so I will explore these and some other important metrics for quality:"
   ]
  },
  {
   "cell_type": "code",
   "execution_count": 13,
   "metadata": {
    "tags": []
   },
   "outputs": [
    {
     "name": "stdout",
     "output_type": "stream",
     "text": [
      "Foursquare produced 214 unique results\n",
      "Yelp produced 205 unique results\n"
     ]
    }
   ],
   "source": [
    "fsqr_unique = len(pd.unique(results_FSQR['id']))\n",
    "print(f\"Foursquare produced {fsqr_unique} unique results\")\n",
    "yelp_unique = len(pd.unique(results_YELP['id']))\n",
    "print(f\"Yelp produced {yelp_unique} unique results\")"
   ]
  },
  {
   "cell_type": "markdown",
   "metadata": {},
   "source": [
    "#### Ratings per bike station"
   ]
  },
  {
   "cell_type": "code",
   "execution_count": 14,
   "metadata": {},
   "outputs": [
    {
     "name": "stdout",
     "output_type": "stream",
     "text": [
      "Foursquare provided 13556 ratings over 37 bike stations for an average of 366 ratings per station\n",
      "Yelp provided 1014 ratings over 37 bike stations for an average of 27 ratings per station\n"
     ]
    },
    {
     "data": {
      "image/png": "[encoded data removed]",
      "text/plain": [
       "<Figure size 640x480 with 1 Axes>"
      ]
     },
     "metadata": {},
     "output_type": "display_data"
    }
   ],
   "source": [
    "fsqr_sumRatings = results_FSQR['ratings'].sum()\n",
    "yelp_sumRatings = results_YELP['ratings'].sum()\n",
    "print(f'Foursquare provided {fsqr_sumRatings} ratings over {len(CITY_BIKES)} bike stations for an average of {round(fsqr_sumRatings / len(CITY_BIKES))} ratings per station')\n",
    "print(f'Yelp provided {yelp_sumRatings} ratings over {len(CITY_BIKES)} bike stations for an average of {round(yelp_sumRatings / len(CITY_BIKES))} ratings per station')\n",
    "\n",
    "# create comparison lineplot\n",
    "fsqr_sums_df = results_FSQR[['API', 'station_name', 'ratings']].groupby('station_name').sum()\n",
    "yelp_sums_df = results_YELP[['API', 'station_name', 'ratings']].groupby('station_name').sum()\n",
    "\n",
    "plt.plot(range(len(fsqr_sums_df)), (fsqr_sums_df['ratings']))\n",
    "plt.plot(range(len(yelp_sums_df)), (yelp_sums_df['ratings']))\n",
    "plt.title('ratings per bike station')\n",
    "plt.xlabel('station')\n",
    "plt.xticks((range(len(fsqr_sums_df)))[::2])\n",
    "plt.legend(title='API', loc='upper left', labels=['Foursquare', 'Yelp'])\n",
    "plt.savefig(f'../images/ratingsPerBikeStation{city}.png')"
   ]
  },
  {
   "cell_type": "markdown",
   "metadata": {},
   "source": [
    "In the city of Palma, Foursquare's total ratings beat Yelp's ratings at a ratio of almost 14:1. Based on the similarity of unique results returned and the overwhelmingly higher amount of average ratings, I would suggest the use of Foursquare for querying 'Dining and Drinking' data in Palma. Further, since Yelp is a service specializing in 'Dining and Drinking' data, I would suggest using Foursquare for all categories of place of interest queries in Palma."
   ]
  }
 ],
 "metadata": {
  "kernelspec": {
   "display_name": "Python 3 (ipykernel)",
   "language": "python",
   "name": "python3"
  },
  "language_info": {
   "codemirror_mode": {
    "name": "ipython",
    "version": 3
   },
   "file_extension": ".py",
   "mimetype": "text/x-python",
   "name": "python",
   "nbconvert_exporter": "python",
   "pygments_lexer": "ipython3",
   "version": "3.10.9"
  }
 },
 "nbformat": 4,
 "nbformat_minor": 4
}
