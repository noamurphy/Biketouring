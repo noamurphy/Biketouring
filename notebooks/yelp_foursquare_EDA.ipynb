{
 "cells": [
  {
   "cell_type": "markdown",
   "metadata": {},
   "source": [
    "Notes:\n",
    "- Need to either find a way to handle warnings, or to change all df.append to df.concat\n",
    "- Params for both APIs are essentially the same, so they could be moved outside of functions and into set-up\n",
    "- Both APIs could run in parallel on seperate threads to save time waiting for the call delay"
   ]
  },
  {
   "cell_type": "markdown",
   "metadata": {
    "tags": []
   },
   "source": [
    "## Set-up"
   ]
  },
  {
   "cell_type": "code",
   "execution_count": 37,
   "metadata": {
    "tags": []
   },
   "outputs": [],
   "source": [
    "# import libraries\n",
    "from IPython.display import JSON #REMOVE ONCE NOTEBOOK IS COMPLETE\n",
    "import requests\n",
    "import pandas as pd\n",
    "import os\n",
    "import time"
   ]
  },
  {
   "cell_type": "code",
   "execution_count": 38,
   "metadata": {},
   "outputs": [],
   "source": [
    "# set constants:\n",
    "FOURSQUARE_API_KEY = os.getenv('FOURSQUARE_API_KEY')\n",
    "YELP_API_KEY = os.getenv('YELP_API_KEY')\n",
    "CALL_DELAY = 0.5 # pause (in s) after each call"
   ]
  },
  {
   "cell_type": "code",
   "execution_count": 39,
   "metadata": {
    "tags": []
   },
   "outputs": [],
   "source": [
    "# load data\n",
    "palmaBikes = pd.read_csv('../data/palmaBikes.csv')"
   ]
  },
  {
   "cell_type": "markdown",
   "metadata": {
    "tags": []
   },
   "source": [
    "# Foursquare"
   ]
  },
  {
   "cell_type": "code",
   "execution_count": 42,
   "metadata": {
    "tags": []
   },
   "outputs": [],
   "source": [
    "# define Foursquare specific functions\n",
    "\n",
    "# format lat and long for Foursquare API\n",
    "def getLatLong(cityBikes_df):\n",
    "    ll_list = []\n",
    "    for station in cityBikes_df.index:\n",
    "        ll_list.append('{},{}'.format(str(cityBikes_df.iloc[station]['latitude']), str(cityBikes_df.iloc[station]['longitude'])))\n",
    "    return ll_list\n",
    "\n",
    "\n",
    "def getPOIs_FSQR(cityBikes_df):\n",
    "    \n",
    "    # initialize dataframe\n",
    "    df = pd.DataFrame(columns = ['station_name', 'station_id', 'API', 'id', 'category', 'distance', 'name', 'rating', 'ratings'])\n",
    "    \n",
    "    # format latitude and longitude for Foursquare API\n",
    "    cityBikes_df['ll'] = (pd.Series(getLatLong(palmaBikes)))\n",
    "    \n",
    "    for station in cityBikes_df.index:\n",
    "        \n",
    "        # make API call\n",
    "        params = {\n",
    "            'll': cityBikes_df.iloc[station]['ll'],\n",
    "            'radius': '1000',\n",
    "            'fields': ['categories', 'fsq_id', 'distance', 'name', 'rating', 'stats'],\n",
    "            'sort': 'DISTANCE',\n",
    "            'limit': '10'\n",
    "        }\n",
    "        \n",
    "        url = f\"https://api.foursquare.com/v3/places/search?ll={cityBikes_df.iloc[station]['ll']}&radius={params['radius']}&fields={params['fields'][0]}%2C{params['fields'][1]}%2C{params['fields'][2]}%2C{params['fields'][3]}%2C{params['fields'][4]}%2C{params['fields'][5]}&sort={params['sort']}&limit={params['limit']}\"\n",
    "\n",
    "        headers = {\n",
    "            \"Accept\": \"application/json\",\n",
    "            \"Authorization\": FOURSQUARE_API_KEY\n",
    "        }\n",
    "\n",
    "        response = requests.request(\"GET\", url, headers=headers).json()\n",
    "        time.sleep(CALL_DELAY)\n",
    "        \n",
    "        for POI in response['results']:\n",
    "            \n",
    "            # collecting category, distance, fsq_id, name, rating, ratings\n",
    "            try:\n",
    "                category = POI['categories'][0]['name']\n",
    "            except:\n",
    "                None\n",
    "            distance = POI['distance']\n",
    "            fsq_id = POI['fsq_id']\n",
    "            name = POI['name']\n",
    "            try:\n",
    "                rating = POI['rating']\n",
    "            except:\n",
    "                rating = None\n",
    "            try:\n",
    "                ratings = POI['stats']['total_ratings']\n",
    "            except:\n",
    "                ratings = None\n",
    "                \n",
    "            # tag as FSQR\n",
    "            API = \"FSQR\"\n",
    "            \n",
    "            # add station information\n",
    "            station_name = cityBikes_df.iloc[station]['name']\n",
    "            station_id = cityBikes_df.iloc[station]['id']\n",
    "            \n",
    "            # save to dataframe\n",
    "            df = df.append({'station_name': station_name, 'station_id': station_id, 'API': API, 'id': fsq_id, 'category': category,\n",
    "                            'distance': distance, 'name': name, 'rating': rating,\n",
    "                            'ratings':ratings}, ignore_index=True)\n",
    "        \n",
    "    return df"
   ]
  },
  {
   "cell_type": "code",
   "execution_count": null,
   "metadata": {
    "tags": []
   },
   "outputs": [],
   "source": [
    "results_FSQR = getPOIs_FSQR(palmaBikes)"
   ]
  },
  {
   "cell_type": "code",
   "execution_count": 45,
   "metadata": {
    "tags": []
   },
   "outputs": [
    {
     "data": {
      "text/html": [
       "<div>\n",
       "<style scoped>\n",
       "    .dataframe tbody tr th:only-of-type {\n",
       "        vertical-align: middle;\n",
       "    }\n",
       "\n",
       "    .dataframe tbody tr th {\n",
       "        vertical-align: top;\n",
       "    }\n",
       "\n",
       "    .dataframe thead th {\n",
       "        text-align: right;\n",
       "    }\n",
       "</style>\n",
       "<table border=\"1\" class=\"dataframe\">\n",
       "  <thead>\n",
       "    <tr style=\"text-align: right;\">\n",
       "      <th></th>\n",
       "      <th>station_name</th>\n",
       "      <th>station_id</th>\n",
       "      <th>API</th>\n",
       "      <th>id</th>\n",
       "      <th>category</th>\n",
       "      <th>distance</th>\n",
       "      <th>name</th>\n",
       "      <th>rating</th>\n",
       "      <th>ratings</th>\n",
       "    </tr>\n",
       "  </thead>\n",
       "  <tbody>\n",
       "    <tr>\n",
       "      <th>0</th>\n",
       "      <td>F. MANUEL HERREROS</td>\n",
       "      <td>abb1d34b9bf558d40cd02e26ab1dc8b3</td>\n",
       "      <td>FSQR</td>\n",
       "      <td>4bc84d218b7c9c748cd337cf</td>\n",
       "      <td>Farmers' Market</td>\n",
       "      <td>43</td>\n",
       "      <td>Mercat de Pere Garau</td>\n",
       "      <td>8.4</td>\n",
       "      <td>75</td>\n",
       "    </tr>\n",
       "    <tr>\n",
       "      <th>1</th>\n",
       "      <td>F. MANUEL HERREROS</td>\n",
       "      <td>abb1d34b9bf558d40cd02e26ab1dc8b3</td>\n",
       "      <td>FSQR</td>\n",
       "      <td>4d331da3329e54811bbcb61d</td>\n",
       "      <td>Café</td>\n",
       "      <td>108</td>\n",
       "      <td>Churreria la Artesana</td>\n",
       "      <td>6.2</td>\n",
       "      <td>8</td>\n",
       "    </tr>\n",
       "    <tr>\n",
       "      <th>2</th>\n",
       "      <td>F. MANUEL HERREROS</td>\n",
       "      <td>abb1d34b9bf558d40cd02e26ab1dc8b3</td>\n",
       "      <td>FSQR</td>\n",
       "      <td>4f5e6a0ce4b0028cf960560b</td>\n",
       "      <td>Taco Restaurant</td>\n",
       "      <td>299</td>\n",
       "      <td>Chapultepec</td>\n",
       "      <td>9.0</td>\n",
       "      <td>77</td>\n",
       "    </tr>\n",
       "    <tr>\n",
       "      <th>3</th>\n",
       "      <td>F. MANUEL HERREROS</td>\n",
       "      <td>abb1d34b9bf558d40cd02e26ab1dc8b3</td>\n",
       "      <td>FSQR</td>\n",
       "      <td>4f6b5cc2e4b0b8a88349b5b2</td>\n",
       "      <td>Grocery Store / Supermarket</td>\n",
       "      <td>313</td>\n",
       "      <td>Alimentos de China</td>\n",
       "      <td>None</td>\n",
       "      <td>None</td>\n",
       "    </tr>\n",
       "    <tr>\n",
       "      <th>4</th>\n",
       "      <td>F. MANUEL HERREROS</td>\n",
       "      <td>abb1d34b9bf558d40cd02e26ab1dc8b3</td>\n",
       "      <td>FSQR</td>\n",
       "      <td>4cfe90b759c7b60c34f29f77</td>\n",
       "      <td>Grocery Store / Supermarket</td>\n",
       "      <td>326</td>\n",
       "      <td>Mercadona</td>\n",
       "      <td>5.6</td>\n",
       "      <td>9</td>\n",
       "    </tr>\n",
       "  </tbody>\n",
       "</table>\n",
       "</div>"
      ],
      "text/plain": [
       "         station_name                        station_id   API  \\\n",
       "0  F. MANUEL HERREROS  abb1d34b9bf558d40cd02e26ab1dc8b3  FSQR   \n",
       "1  F. MANUEL HERREROS  abb1d34b9bf558d40cd02e26ab1dc8b3  FSQR   \n",
       "2  F. MANUEL HERREROS  abb1d34b9bf558d40cd02e26ab1dc8b3  FSQR   \n",
       "3  F. MANUEL HERREROS  abb1d34b9bf558d40cd02e26ab1dc8b3  FSQR   \n",
       "4  F. MANUEL HERREROS  abb1d34b9bf558d40cd02e26ab1dc8b3  FSQR   \n",
       "\n",
       "                         id                     category distance  \\\n",
       "0  4bc84d218b7c9c748cd337cf              Farmers' Market       43   \n",
       "1  4d331da3329e54811bbcb61d                         Café      108   \n",
       "2  4f5e6a0ce4b0028cf960560b              Taco Restaurant      299   \n",
       "3  4f6b5cc2e4b0b8a88349b5b2  Grocery Store / Supermarket      313   \n",
       "4  4cfe90b759c7b60c34f29f77  Grocery Store / Supermarket      326   \n",
       "\n",
       "                    name rating ratings  \n",
       "0   Mercat de Pere Garau    8.4      75  \n",
       "1  Churreria la Artesana    6.2       8  \n",
       "2            Chapultepec    9.0      77  \n",
       "3     Alimentos de China   None    None  \n",
       "4              Mercadona    5.6       9  "
      ]
     },
     "execution_count": 45,
     "metadata": {},
     "output_type": "execute_result"
    }
   ],
   "source": [
    "results_FSQR.head()"
   ]
  },
  {
   "cell_type": "markdown",
   "metadata": {
    "tags": []
   },
   "source": [
    "# Yelp"
   ]
  },
  {
   "cell_type": "code",
   "execution_count": 47,
   "metadata": {},
   "outputs": [],
   "source": [
    "#define yelp specific functions\n",
    "\n",
    "def getPOIs_YELP(cityBikes_df): \n",
    "\n",
    "    # initialize dataframe\n",
    "    df = pd.DataFrame(columns = ['station_name', 'station_id', 'API', 'yelp_id', 'category', 'distance', 'name', 'rating', 'ratings'])\n",
    "    \n",
    "    for station in cityBikes_df.index:\n",
    "        \n",
    "        # make API call\n",
    "        params = {\n",
    "            'latitude': cityBikes_df.iloc[0]['latitude'],\n",
    "            'longitude': cityBikes_df.iloc[0]['longitude'],\n",
    "            'radius': '1000',\n",
    "            'limit': '10'\n",
    "        }\n",
    "        url = (f\"https://api.yelp.com/v3/businesses/search?latitude={params['latitude']}&longitude={params['longitude']}&radius={params['radius']}&sort_by=distance&limit={params['limit']}\")\n",
    "        \n",
    "        headers = {\n",
    "            \"accept\": \"application/json\",\n",
    "            \"Authorization\": \"bearer \" + YELP_API_KEY\n",
    "        }\n",
    "\n",
    "        response = requests.get(url, headers=headers).json()\n",
    "        time.sleep(CALL_DELAY)\n",
    "                \n",
    "        for POI in response['businesses']:\n",
    "            \n",
    "            # collect id, category, distance, name, rating, ratings\n",
    "            yelp_id = POI['id']\n",
    "            try:\n",
    "                category = POI['categories'][0]['title']\n",
    "            except:\n",
    "                None\n",
    "            distance = POI['distance']\n",
    "            name = POI['name']\n",
    "            rating = POI['rating']\n",
    "            ratings = POI['review_count']\n",
    "            \n",
    "            # tag as Yelp\n",
    "            API = \"YELP\"\n",
    "            \n",
    "            # add station information\n",
    "            station_name = cityBikes_df.iloc[station]['name']\n",
    "            station_id = cityBikes_df.iloc[station]['id']\n",
    "            \n",
    "            # save to dataframe\n",
    "            df = df.append({'station_name': station_name, 'station_id': station_id, 'API': API, 'yelp_id': yelp_id, 'category': category, 'distance': distance, \n",
    "                            'name': name, 'rating': rating,\n",
    "                            'ratings':ratings}, ignore_index=True)\n",
    "    return df"
   ]
  },
  {
   "cell_type": "code",
   "execution_count": null,
   "metadata": {
    "tags": []
   },
   "outputs": [],
   "source": [
    "results_YELP = getPOIs_YELP(palmaBikes)"
   ]
  },
  {
   "cell_type": "code",
   "execution_count": 49,
   "metadata": {
    "tags": []
   },
   "outputs": [
    {
     "data": {
      "text/html": [
       "<div>\n",
       "<style scoped>\n",
       "    .dataframe tbody tr th:only-of-type {\n",
       "        vertical-align: middle;\n",
       "    }\n",
       "\n",
       "    .dataframe tbody tr th {\n",
       "        vertical-align: top;\n",
       "    }\n",
       "\n",
       "    .dataframe thead th {\n",
       "        text-align: right;\n",
       "    }\n",
       "</style>\n",
       "<table border=\"1\" class=\"dataframe\">\n",
       "  <thead>\n",
       "    <tr style=\"text-align: right;\">\n",
       "      <th></th>\n",
       "      <th>station_name</th>\n",
       "      <th>station_id</th>\n",
       "      <th>API</th>\n",
       "      <th>yelp_id</th>\n",
       "      <th>category</th>\n",
       "      <th>distance</th>\n",
       "      <th>name</th>\n",
       "      <th>rating</th>\n",
       "      <th>ratings</th>\n",
       "    </tr>\n",
       "  </thead>\n",
       "  <tbody>\n",
       "    <tr>\n",
       "      <th>0</th>\n",
       "      <td>F. MANUEL HERREROS</td>\n",
       "      <td>abb1d34b9bf558d40cd02e26ab1dc8b3</td>\n",
       "      <td>YELP</td>\n",
       "      <td>BWWXOHCcfSNXl3yeGcErsw</td>\n",
       "      <td>Chinese</td>\n",
       "      <td>324.543739</td>\n",
       "      <td>Shi Shan Xuan</td>\n",
       "      <td>5.0</td>\n",
       "      <td>3</td>\n",
       "    </tr>\n",
       "    <tr>\n",
       "      <th>1</th>\n",
       "      <td>F. MANUEL HERREROS</td>\n",
       "      <td>abb1d34b9bf558d40cd02e26ab1dc8b3</td>\n",
       "      <td>YELP</td>\n",
       "      <td>e3F0HeIfhCByxFN9hUP_cA</td>\n",
       "      <td>Bars</td>\n",
       "      <td>406.299598</td>\n",
       "      <td>Las Caribenas</td>\n",
       "      <td>5.0</td>\n",
       "      <td>1</td>\n",
       "    </tr>\n",
       "    <tr>\n",
       "      <th>2</th>\n",
       "      <td>F. MANUEL HERREROS</td>\n",
       "      <td>abb1d34b9bf558d40cd02e26ab1dc8b3</td>\n",
       "      <td>YELP</td>\n",
       "      <td>8yYthxSx297ic_pIG5D3Lg</td>\n",
       "      <td>Tapas Bars</td>\n",
       "      <td>406.663624</td>\n",
       "      <td>Dehesa Santa Maria</td>\n",
       "      <td>4.0</td>\n",
       "      <td>1</td>\n",
       "    </tr>\n",
       "    <tr>\n",
       "      <th>3</th>\n",
       "      <td>F. MANUEL HERREROS</td>\n",
       "      <td>abb1d34b9bf558d40cd02e26ab1dc8b3</td>\n",
       "      <td>YELP</td>\n",
       "      <td>4tGOSHJlKK2MXkwszcnbdQ</td>\n",
       "      <td>Bars</td>\n",
       "      <td>423.613087</td>\n",
       "      <td>Bar Monaco</td>\n",
       "      <td>4.0</td>\n",
       "      <td>1</td>\n",
       "    </tr>\n",
       "    <tr>\n",
       "      <th>4</th>\n",
       "      <td>F. MANUEL HERREROS</td>\n",
       "      <td>abb1d34b9bf558d40cd02e26ab1dc8b3</td>\n",
       "      <td>YELP</td>\n",
       "      <td>JqjGid2vEcHBvxSbL2Oi5w</td>\n",
       "      <td>Spanish</td>\n",
       "      <td>444.985865</td>\n",
       "      <td>Palacio Chino</td>\n",
       "      <td>5.0</td>\n",
       "      <td>1</td>\n",
       "    </tr>\n",
       "  </tbody>\n",
       "</table>\n",
       "</div>"
      ],
      "text/plain": [
       "         station_name                        station_id   API  \\\n",
       "0  F. MANUEL HERREROS  abb1d34b9bf558d40cd02e26ab1dc8b3  YELP   \n",
       "1  F. MANUEL HERREROS  abb1d34b9bf558d40cd02e26ab1dc8b3  YELP   \n",
       "2  F. MANUEL HERREROS  abb1d34b9bf558d40cd02e26ab1dc8b3  YELP   \n",
       "3  F. MANUEL HERREROS  abb1d34b9bf558d40cd02e26ab1dc8b3  YELP   \n",
       "4  F. MANUEL HERREROS  abb1d34b9bf558d40cd02e26ab1dc8b3  YELP   \n",
       "\n",
       "                  yelp_id    category    distance                name  rating  \\\n",
       "0  BWWXOHCcfSNXl3yeGcErsw     Chinese  324.543739       Shi Shan Xuan     5.0   \n",
       "1  e3F0HeIfhCByxFN9hUP_cA        Bars  406.299598       Las Caribenas     5.0   \n",
       "2  8yYthxSx297ic_pIG5D3Lg  Tapas Bars  406.663624  Dehesa Santa Maria     4.0   \n",
       "3  4tGOSHJlKK2MXkwszcnbdQ        Bars  423.613087          Bar Monaco     4.0   \n",
       "4  JqjGid2vEcHBvxSbL2Oi5w     Spanish  444.985865       Palacio Chino     5.0   \n",
       "\n",
       "  ratings  \n",
       "0       3  \n",
       "1       1  \n",
       "2       1  \n",
       "3       1  \n",
       "4       1  "
      ]
     },
     "execution_count": 49,
     "metadata": {},
     "output_type": "execute_result"
    }
   ],
   "source": [
    "results_YELP.head()"
   ]
  },
  {
   "cell_type": "markdown",
   "metadata": {},
   "source": [
    "# Comparing Results"
   ]
  },
  {
   "cell_type": "markdown",
   "metadata": {},
   "source": [
    "Which API provided you with more complete data? Provide an explanation. "
   ]
  },
  {
   "cell_type": "markdown",
   "metadata": {},
   "source": []
  },
  {
   "cell_type": "markdown",
   "metadata": {},
   "source": [
    "Get the top 10 restaurants according to their rating"
   ]
  },
  {
   "cell_type": "code",
   "execution_count": null,
   "metadata": {},
   "outputs": [],
   "source": []
  }
 ],
 "metadata": {
  "kernelspec": {
   "display_name": "Python 3 (ipykernel)",
   "language": "python",
   "name": "python3"
  },
  "language_info": {
   "codemirror_mode": {
    "name": "ipython",
    "version": 3
   },
   "file_extension": ".py",
   "mimetype": "text/x-python",
   "name": "python",
   "nbconvert_exporter": "python",
   "pygments_lexer": "ipython3",
   "version": "3.10.9"
  }
 },
 "nbformat": 4,
 "nbformat_minor": 4
}
