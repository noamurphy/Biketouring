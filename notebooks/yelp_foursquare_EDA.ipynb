{
 "cells": [
  {
   "cell_type": "markdown",
   "metadata": {
    "tags": []
   },
   "source": [
    "## Set-up"
   ]
  },
  {
   "cell_type": "code",
   "execution_count": 321,
   "metadata": {
    "tags": []
   },
   "outputs": [],
   "source": [
    "# import libraries\n",
    "from IPython.display import JSON #REMOVE ONCE NOTEBOOK IS COMPLETE\n",
    "import requests\n",
    "import pandas as pd\n",
    "import os\n",
    "import time"
   ]
  },
  {
   "cell_type": "code",
   "execution_count": null,
   "metadata": {},
   "outputs": [],
   "source": [
    "# set constants:\n",
    "API_KEY = os.getenv('FOURSQUARE_API_KEY')\n",
    "CALL_DELAY = 0.5 # pause (in s) after each call"
   ]
  },
  {
   "cell_type": "markdown",
   "metadata": {
    "tags": []
   },
   "source": [
    "# Foursquare"
   ]
  },
  {
   "cell_type": "markdown",
   "metadata": {},
   "source": [
    "Notes:\n",
    "- !! There does not need to be a seperate call for each fsq_id, the getPOIDetails_FSQR() function needs to be assimilated into getPOIs_FSQR() !!\n",
    "- Need to adjust city_bikes.ipynb to provide name and address of bike station (more valuable than lat,long as an output)\n",
    "    - Then add processing for name and address of bike stations\n",
    "- Should add call_delay"
   ]
  },
  {
   "cell_type": "code",
   "execution_count": 353,
   "metadata": {
    "tags": []
   },
   "outputs": [],
   "source": [
    "# load data\n",
    "palmaBikes = pd.read_csv('Statistical-Modelling/data/palmaBikes.csv')"
   ]
  },
  {
   "cell_type": "code",
   "execution_count": 405,
   "metadata": {
    "tags": []
   },
   "outputs": [],
   "source": [
    "# define functions\n",
    "\n",
    "# general\n",
    "def getLatLong(cityBikes_df):\n",
    "    ll_list = []\n",
    "    for station in cityBikes_df.index:\n",
    "        ll_list.append('{},{}'.format(str(cityBikes_df.iloc[station]['latitude']), str(cityBikes_df.iloc[station]['longitude'])))\n",
    "    return ll_list\n",
    "\n",
    "# Foursquare\n",
    "def getPOIDetails_FSQR(fsq_id):\n",
    "    # make API call (seleted fields are 'rating', 'price', 'stats', 'popularity', 'features')\n",
    "    url = \"https://api.foursquare.com/v3/places/{}?fields=rating%2Cprice%2Cstats%2Cpopularity%2Cfeatures\".format(fsq_id)\n",
    "\n",
    "    headers = {\n",
    "        \"accept\": \"application/json\",\n",
    "        \"Authorization\": API_KEY\n",
    "    }\n",
    "    \n",
    "    response = requests.get(url, headers=headers).json()\n",
    "    \n",
    "    # collect rating, popularity, ratings, total_stats (if they exist)\n",
    "    try:\n",
    "        rating = response['rating']\n",
    "    except:\n",
    "        rating = None\n",
    "    try:\n",
    "        popularity = response['popularity']\n",
    "    except:\n",
    "        popularity = None\n",
    "    try:\n",
    "        ratings = response['stats']['total_ratings']\n",
    "    except:\n",
    "        ratings = None\n",
    "    try:\n",
    "        total_stats = response['stats']['total_photos'] + response['stats']['total_ratings'] + response['stats']['total_tips']\n",
    "    except:\n",
    "        total_stats = 'NA'\n",
    "    \n",
    "    return rating, popularity, ratings, total_stats\n",
    "    \n",
    "def getPOIs_FSQR(cityBikes_df):\n",
    "    \n",
    "    # format latitude and longitude for Foursquare API\n",
    "    cityBikes_df['ll'] = (pd.Series(getLatLong(palmaBikes)))\n",
    "    \n",
    "    for station in cityBikes_df.index:\n",
    "        # make API call\n",
    "        url = \"https://api.foursquare.com/v3/places/search\"\n",
    "\n",
    "        params = {\n",
    "            \"ll\": cityBikes_df.iloc[station]['ll'],\n",
    "            \"radius\": \"1000\", #1km\n",
    "            \"limit\": \"10\", #Brought down from 50 to 10 for testing\n",
    "            \"sort\":\"DISTANCE\" #Might be useful, but I'm not sure how yet\n",
    "        }\n",
    "\n",
    "        headers = {\n",
    "            \"Accept\": \"application/json\",\n",
    "            \"Authorization\": API_KEY\n",
    "        }\n",
    "\n",
    "        response = requests.request(\"GET\", url, params=params, headers=headers).json()\n",
    "        \n",
    "        df = pd.DataFrame(columns = ['category', 'distance', 'fsq_id', 'name', 'rating', 'popularity', 'ratings', 'total_stats'])\n",
    "        \n",
    "        for POI in response['results']:\n",
    "            # collecting category, distance, fsq_id, name\n",
    "            category = POI['categories'][0]['name']\n",
    "            distance = POI['distance']\n",
    "            fsq_id = POI['fsq_id']\n",
    "            name = POI['name']\n",
    "\n",
    "            #collecting rating, popularity, ratings, total_stats\n",
    "            rating, popularity, ratings, total_stats = getPOIDetails_FSQR(fsq_id)\n",
    "\n",
    "            # save to dataframe\n",
    "            df = df.append({'category': category, 'distance': distance, \n",
    "                            'fsq_id': fsq_id, 'name': name, 'rating': rating,\n",
    "                            'popularity': popularity, 'ratings':ratings,\n",
    "                            'total_stats': total_stats}, ignore_index=True)\n",
    "        \n",
    "        return df\n",
    "        \n",
    "\n",
    "\n",
    "# Yelp"
   ]
  },
  {
   "cell_type": "code",
   "execution_count": 406,
   "metadata": {
    "tags": []
   },
   "outputs": [
    {
     "name": "stderr",
     "output_type": "stream",
     "text": [
      "/var/folders/k6/sjx5jh0s4ps0mm1lbstv_yrm0000gn/T/ipykernel_41679/957875772.py:75: FutureWarning: The frame.append method is deprecated and will be removed from pandas in a future version. Use pandas.concat instead.\n",
      "  df = df.append({'category': category, 'distance': distance,\n",
      "/var/folders/k6/sjx5jh0s4ps0mm1lbstv_yrm0000gn/T/ipykernel_41679/957875772.py:75: FutureWarning: The frame.append method is deprecated and will be removed from pandas in a future version. Use pandas.concat instead.\n",
      "  df = df.append({'category': category, 'distance': distance,\n",
      "/var/folders/k6/sjx5jh0s4ps0mm1lbstv_yrm0000gn/T/ipykernel_41679/957875772.py:75: FutureWarning: The frame.append method is deprecated and will be removed from pandas in a future version. Use pandas.concat instead.\n",
      "  df = df.append({'category': category, 'distance': distance,\n",
      "/var/folders/k6/sjx5jh0s4ps0mm1lbstv_yrm0000gn/T/ipykernel_41679/957875772.py:75: FutureWarning: The frame.append method is deprecated and will be removed from pandas in a future version. Use pandas.concat instead.\n",
      "  df = df.append({'category': category, 'distance': distance,\n",
      "/var/folders/k6/sjx5jh0s4ps0mm1lbstv_yrm0000gn/T/ipykernel_41679/957875772.py:75: FutureWarning: The frame.append method is deprecated and will be removed from pandas in a future version. Use pandas.concat instead.\n",
      "  df = df.append({'category': category, 'distance': distance,\n",
      "/var/folders/k6/sjx5jh0s4ps0mm1lbstv_yrm0000gn/T/ipykernel_41679/957875772.py:75: FutureWarning: The frame.append method is deprecated and will be removed from pandas in a future version. Use pandas.concat instead.\n",
      "  df = df.append({'category': category, 'distance': distance,\n",
      "/var/folders/k6/sjx5jh0s4ps0mm1lbstv_yrm0000gn/T/ipykernel_41679/957875772.py:75: FutureWarning: The frame.append method is deprecated and will be removed from pandas in a future version. Use pandas.concat instead.\n",
      "  df = df.append({'category': category, 'distance': distance,\n",
      "/var/folders/k6/sjx5jh0s4ps0mm1lbstv_yrm0000gn/T/ipykernel_41679/957875772.py:75: FutureWarning: The frame.append method is deprecated and will be removed from pandas in a future version. Use pandas.concat instead.\n",
      "  df = df.append({'category': category, 'distance': distance,\n",
      "/var/folders/k6/sjx5jh0s4ps0mm1lbstv_yrm0000gn/T/ipykernel_41679/957875772.py:75: FutureWarning: The frame.append method is deprecated and will be removed from pandas in a future version. Use pandas.concat instead.\n",
      "  df = df.append({'category': category, 'distance': distance,\n",
      "/var/folders/k6/sjx5jh0s4ps0mm1lbstv_yrm0000gn/T/ipykernel_41679/957875772.py:75: FutureWarning: The frame.append method is deprecated and will be removed from pandas in a future version. Use pandas.concat instead.\n",
      "  df = df.append({'category': category, 'distance': distance,\n"
     ]
    },
    {
     "data": {
      "text/html": [
       "<div>\n",
       "<style scoped>\n",
       "    .dataframe tbody tr th:only-of-type {\n",
       "        vertical-align: middle;\n",
       "    }\n",
       "\n",
       "    .dataframe tbody tr th {\n",
       "        vertical-align: top;\n",
       "    }\n",
       "\n",
       "    .dataframe thead th {\n",
       "        text-align: right;\n",
       "    }\n",
       "</style>\n",
       "<table border=\"1\" class=\"dataframe\">\n",
       "  <thead>\n",
       "    <tr style=\"text-align: right;\">\n",
       "      <th></th>\n",
       "      <th>category</th>\n",
       "      <th>distance</th>\n",
       "      <th>fsq_id</th>\n",
       "      <th>name</th>\n",
       "      <th>rating</th>\n",
       "      <th>popularity</th>\n",
       "      <th>ratings</th>\n",
       "      <th>total_stats</th>\n",
       "    </tr>\n",
       "  </thead>\n",
       "  <tbody>\n",
       "    <tr>\n",
       "      <th>0</th>\n",
       "      <td>Farmers' Market</td>\n",
       "      <td>43</td>\n",
       "      <td>4bc84d218b7c9c748cd337cf</td>\n",
       "      <td>Mercat de Pere Garau</td>\n",
       "      <td>8.4</td>\n",
       "      <td>0.998674</td>\n",
       "      <td>75</td>\n",
       "      <td>115</td>\n",
       "    </tr>\n",
       "    <tr>\n",
       "      <th>1</th>\n",
       "      <td>Café</td>\n",
       "      <td>108</td>\n",
       "      <td>4d331da3329e54811bbcb61d</td>\n",
       "      <td>Churreria la Artesana</td>\n",
       "      <td>6.2</td>\n",
       "      <td>0.886616</td>\n",
       "      <td>8</td>\n",
       "      <td>23</td>\n",
       "    </tr>\n",
       "    <tr>\n",
       "      <th>2</th>\n",
       "      <td>Pedestrian Plaza</td>\n",
       "      <td>205</td>\n",
       "      <td>5379daef11d27506c0598b8c</td>\n",
       "      <td>Plaça de Pere Garau</td>\n",
       "      <td>None</td>\n",
       "      <td>0.979232</td>\n",
       "      <td>None</td>\n",
       "      <td>NA</td>\n",
       "    </tr>\n",
       "    <tr>\n",
       "      <th>3</th>\n",
       "      <td>Home Service</td>\n",
       "      <td>298</td>\n",
       "      <td>579f1a55498e79d91685057a</td>\n",
       "      <td>Bongrup Baleares</td>\n",
       "      <td>None</td>\n",
       "      <td>0.250365</td>\n",
       "      <td>None</td>\n",
       "      <td>NA</td>\n",
       "    </tr>\n",
       "    <tr>\n",
       "      <th>4</th>\n",
       "      <td>Taco Restaurant</td>\n",
       "      <td>299</td>\n",
       "      <td>4f5e6a0ce4b0028cf960560b</td>\n",
       "      <td>Chapultepec</td>\n",
       "      <td>9.0</td>\n",
       "      <td>0.971190</td>\n",
       "      <td>77</td>\n",
       "      <td>156</td>\n",
       "    </tr>\n",
       "    <tr>\n",
       "      <th>5</th>\n",
       "      <td>Health and Beauty Service</td>\n",
       "      <td>315</td>\n",
       "      <td>5d96fa77f6b75b000716362f</td>\n",
       "      <td>D2BD Lounge</td>\n",
       "      <td>None</td>\n",
       "      <td>0.258672</td>\n",
       "      <td>None</td>\n",
       "      <td>NA</td>\n",
       "    </tr>\n",
       "    <tr>\n",
       "      <th>6</th>\n",
       "      <td>Grocery Store / Supermarket</td>\n",
       "      <td>326</td>\n",
       "      <td>4cfe90b759c7b60c34f29f77</td>\n",
       "      <td>Mercadona</td>\n",
       "      <td>5.6</td>\n",
       "      <td>0.975211</td>\n",
       "      <td>9</td>\n",
       "      <td>14</td>\n",
       "    </tr>\n",
       "    <tr>\n",
       "      <th>7</th>\n",
       "      <td>Asian Restaurant</td>\n",
       "      <td>331</td>\n",
       "      <td>4d3de317af8ca1436f0110f7</td>\n",
       "      <td>Shi Shan Xuan</td>\n",
       "      <td>8.0</td>\n",
       "      <td>0.952410</td>\n",
       "      <td>120</td>\n",
       "      <td>231</td>\n",
       "    </tr>\n",
       "    <tr>\n",
       "      <th>8</th>\n",
       "      <td>Bookstore</td>\n",
       "      <td>334</td>\n",
       "      <td>50b4af8de4b047c32be47ff1</td>\n",
       "      <td>Papeleria Clips</td>\n",
       "      <td>None</td>\n",
       "      <td>0.210950</td>\n",
       "      <td>None</td>\n",
       "      <td>NA</td>\n",
       "    </tr>\n",
       "    <tr>\n",
       "      <th>9</th>\n",
       "      <td>Bank</td>\n",
       "      <td>358</td>\n",
       "      <td>4fb3c9ef7beba00e2f48c301</td>\n",
       "      <td>BBVA</td>\n",
       "      <td>6.1</td>\n",
       "      <td>0.895586</td>\n",
       "      <td>0</td>\n",
       "      <td>NA</td>\n",
       "    </tr>\n",
       "  </tbody>\n",
       "</table>\n",
       "</div>"
      ],
      "text/plain": [
       "                      category distance                    fsq_id  \\\n",
       "0              Farmers' Market       43  4bc84d218b7c9c748cd337cf   \n",
       "1                         Café      108  4d331da3329e54811bbcb61d   \n",
       "2             Pedestrian Plaza      205  5379daef11d27506c0598b8c   \n",
       "3                 Home Service      298  579f1a55498e79d91685057a   \n",
       "4              Taco Restaurant      299  4f5e6a0ce4b0028cf960560b   \n",
       "5    Health and Beauty Service      315  5d96fa77f6b75b000716362f   \n",
       "6  Grocery Store / Supermarket      326  4cfe90b759c7b60c34f29f77   \n",
       "7             Asian Restaurant      331  4d3de317af8ca1436f0110f7   \n",
       "8                    Bookstore      334  50b4af8de4b047c32be47ff1   \n",
       "9                         Bank      358  4fb3c9ef7beba00e2f48c301   \n",
       "\n",
       "                    name rating  popularity ratings total_stats  \n",
       "0   Mercat de Pere Garau    8.4    0.998674      75         115  \n",
       "1  Churreria la Artesana    6.2    0.886616       8          23  \n",
       "2    Plaça de Pere Garau   None    0.979232    None          NA  \n",
       "3       Bongrup Baleares   None    0.250365    None          NA  \n",
       "4            Chapultepec    9.0    0.971190      77         156  \n",
       "5            D2BD Lounge   None    0.258672    None          NA  \n",
       "6              Mercadona    5.6    0.975211       9          14  \n",
       "7          Shi Shan Xuan    8.0    0.952410     120         231  \n",
       "8        Papeleria Clips   None    0.210950    None          NA  \n",
       "9                   BBVA    6.1    0.895586       0          NA  "
      ]
     },
     "execution_count": 406,
     "metadata": {},
     "output_type": "execute_result"
    }
   ],
   "source": [
    "getPOIs_FSQR(palmaBikes)"
   ]
  },
  {
   "cell_type": "markdown",
   "metadata": {},
   "source": [
    "# Yelp"
   ]
  },
  {
   "cell_type": "markdown",
   "metadata": {},
   "source": [
    "Send a request to Yelp with a small radius (1000m) for all the bike stations in your city of choice. "
   ]
  },
  {
   "cell_type": "code",
   "execution_count": null,
   "metadata": {},
   "outputs": [],
   "source": []
  },
  {
   "cell_type": "markdown",
   "metadata": {},
   "source": [
    "Parse through the response to get the POI (such as restaurants, bars, etc) details you want (ratings, name, location, etc)"
   ]
  },
  {
   "cell_type": "code",
   "execution_count": null,
   "metadata": {},
   "outputs": [],
   "source": []
  },
  {
   "cell_type": "markdown",
   "metadata": {},
   "source": [
    "Put your parsed results into a DataFrame"
   ]
  },
  {
   "cell_type": "markdown",
   "metadata": {},
   "source": []
  },
  {
   "cell_type": "markdown",
   "metadata": {},
   "source": [
    "# Comparing Results"
   ]
  },
  {
   "cell_type": "markdown",
   "metadata": {},
   "source": [
    "Which API provided you with more complete data? Provide an explanation. "
   ]
  },
  {
   "cell_type": "markdown",
   "metadata": {},
   "source": []
  },
  {
   "cell_type": "markdown",
   "metadata": {},
   "source": [
    "Get the top 10 restaurants according to their rating"
   ]
  },
  {
   "cell_type": "code",
   "execution_count": null,
   "metadata": {},
   "outputs": [],
   "source": []
  }
 ],
 "metadata": {
  "kernelspec": {
   "display_name": "Python 3 (ipykernel)",
   "language": "python",
   "name": "python3"
  },
  "language_info": {
   "codemirror_mode": {
    "name": "ipython",
    "version": 3
   },
   "file_extension": ".py",
   "mimetype": "text/x-python",
   "name": "python",
   "nbconvert_exporter": "python",
   "pygments_lexer": "ipython3",
   "version": "3.10.9"
  }
 },
 "nbformat": 4,
 "nbformat_minor": 4
}
