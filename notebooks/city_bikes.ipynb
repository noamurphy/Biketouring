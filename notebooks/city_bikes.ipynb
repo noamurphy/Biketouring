{
 "cells": [
  {
   "cell_type": "markdown",
   "metadata": {},
   "source": [
    "# CityBikes"
   ]
  },
  {
   "cell_type": "markdown",
   "metadata": {},
   "source": [
    "Update Notes:\n",
    "\n",
    "- Added time.sleep(1) under each API call to avoid data loss while response is being gathered\n",
    "- Integrated getNetworks_df() into getNetwork_id to reduce redundancy\n",
    "- Standardized delay after calls into new constant CALL_DELAY"
   ]
  },
  {
   "cell_type": "markdown",
   "metadata": {
    "tags": []
   },
   "source": [
    "### Set-up"
   ]
  },
  {
   "cell_type": "code",
   "execution_count": 28,
   "metadata": {
    "tags": []
   },
   "outputs": [],
   "source": [
    "# import libraries\n",
    "import requests\n",
    "import pandas as pd\n",
    "import time"
   ]
  },
  {
   "cell_type": "code",
   "execution_count": 29,
   "metadata": {
    "tags": []
   },
   "outputs": [],
   "source": [
    "# set constants\n",
    "ROOT_URL = 'http://api.citybik.es/v2/networks'\n",
    "CALL_DELAY = 1 # pause (in s) after each call"
   ]
  },
  {
   "cell_type": "code",
   "execution_count": 30,
   "metadata": {
    "tags": []
   },
   "outputs": [],
   "source": [
    "# define functions\n",
    "\n",
    "# 'networks' functions\n",
    "def getNetworks_url(filter_fields = []):\n",
    "    if len(filter_fields) > 0:\n",
    "        filter_fields_string = ''\n",
    "        for field in filter_fields:\n",
    "            filter_fields_string += '{},'.format(field)\n",
    "        return ROOT_URL + '?fields={}'.format(filter_fields_string)\n",
    "    return ROOT_URL\n",
    "\n",
    "def getNetworks_df(filter_fields = []):\n",
    "    response = requests.get(getNetworks_url(filter_fields)).json()\n",
    "    time.sleep(CALL_DELAY)\n",
    "    networks_df = pd.json_normalize(response['networks'])\n",
    "    return networks_df\n",
    "\n",
    "# 'network' functions\n",
    "def getNetwork_id(city = ''):\n",
    "    networks_df = getNetworks_df(['location', 'id'])\n",
    "    id_df = networks_df[networks_df['location.city'] == city]\n",
    "    network_id = id_df.iloc[0]['id']\n",
    "    return network_id #Needs error handling for if city is a empty string\n",
    "\n",
    "def getNetwork_df(city = ''):\n",
    "    response = requests.get(ROOT_URL + '/' + getNetwork_id(city) + '?fields=stations').json()\n",
    "    time.sleep(CALL_DELAY)\n",
    "    network_df = pd.json_normalize(response['network']['stations'], max_level = 0)\n",
    "    return network_df\n",
    "\n",
    "# project specific functions\n",
    "def getCityBikes_df(df = pd.DataFrame()):\n",
    "    cityBikes_df = pd.DataFrame()\n",
    "    cityBikes_df['bikes'] = df['empty_slots'] + df['free_bikes']\n",
    "    cityBikes_df['latitude'] = df['latitude']\n",
    "    cityBikes_df['longitude'] = df['longitude']\n",
    "    return cityBikes_df # needs error handling for if df is empty DataFrame"
   ]
  },
  {
   "cell_type": "markdown",
   "metadata": {
    "jp-MarkdownHeadingCollapsed": true,
    "tags": []
   },
   "source": [
    "### Exploring Networks"
   ]
  },
  {
   "cell_type": "code",
   "execution_count": 239,
   "metadata": {
    "tags": []
   },
   "outputs": [],
   "source": [
    "# parameters\n",
    "filter_fields = [] # options are [name, id, href, location]"
   ]
  },
  {
   "cell_type": "code",
   "execution_count": 243,
   "metadata": {
    "tags": []
   },
   "outputs": [
    {
     "data": {
      "text/html": [
       "<div>\n",
       "<style scoped>\n",
       "    .dataframe tbody tr th:only-of-type {\n",
       "        vertical-align: middle;\n",
       "    }\n",
       "\n",
       "    .dataframe tbody tr th {\n",
       "        vertical-align: top;\n",
       "    }\n",
       "\n",
       "    .dataframe thead th {\n",
       "        text-align: right;\n",
       "    }\n",
       "</style>\n",
       "<table border=\"1\" class=\"dataframe\">\n",
       "  <thead>\n",
       "    <tr style=\"text-align: right;\">\n",
       "      <th></th>\n",
       "      <th>company</th>\n",
       "      <th>href</th>\n",
       "      <th>id</th>\n",
       "      <th>name</th>\n",
       "      <th>location.city</th>\n",
       "      <th>location.country</th>\n",
       "      <th>location.latitude</th>\n",
       "      <th>location.longitude</th>\n",
       "      <th>source</th>\n",
       "      <th>gbfs_href</th>\n",
       "      <th>license.name</th>\n",
       "      <th>license.url</th>\n",
       "      <th>ebikes</th>\n",
       "    </tr>\n",
       "  </thead>\n",
       "  <tbody>\n",
       "    <tr>\n",
       "      <th>0</th>\n",
       "      <td>[ЗАО «СитиБайк»]</td>\n",
       "      <td>/v2/networks/velobike-moscow</td>\n",
       "      <td>velobike-moscow</td>\n",
       "      <td>Velobike</td>\n",
       "      <td>Moscow</td>\n",
       "      <td>RU</td>\n",
       "      <td>55.750000</td>\n",
       "      <td>37.616667</td>\n",
       "      <td>NaN</td>\n",
       "      <td>NaN</td>\n",
       "      <td>NaN</td>\n",
       "      <td>NaN</td>\n",
       "      <td>NaN</td>\n",
       "    </tr>\n",
       "    <tr>\n",
       "      <th>1</th>\n",
       "      <td>[Urban Infrastructure Partner]</td>\n",
       "      <td>/v2/networks/baerum-bysykkel</td>\n",
       "      <td>baerum-bysykkel</td>\n",
       "      <td>Bysykkel</td>\n",
       "      <td>Bærum</td>\n",
       "      <td>NO</td>\n",
       "      <td>59.894550</td>\n",
       "      <td>10.546343</td>\n",
       "      <td>NaN</td>\n",
       "      <td>NaN</td>\n",
       "      <td>NaN</td>\n",
       "      <td>NaN</td>\n",
       "      <td>NaN</td>\n",
       "    </tr>\n",
       "    <tr>\n",
       "      <th>2</th>\n",
       "      <td>[Comunicare S.r.l.]</td>\n",
       "      <td>/v2/networks/bicincitta-siena</td>\n",
       "      <td>bicincitta-siena</td>\n",
       "      <td>Bicincittà</td>\n",
       "      <td>Siena</td>\n",
       "      <td>IT</td>\n",
       "      <td>43.318600</td>\n",
       "      <td>11.330600</td>\n",
       "      <td>https://www.bicincitta.com/frmLeStazioni.aspx?...</td>\n",
       "      <td>NaN</td>\n",
       "      <td>NaN</td>\n",
       "      <td>NaN</td>\n",
       "      <td>NaN</td>\n",
       "    </tr>\n",
       "    <tr>\n",
       "      <th>3</th>\n",
       "      <td>[Cyclopolis Systems]</td>\n",
       "      <td>/v2/networks/cyclopolis-maroussi</td>\n",
       "      <td>cyclopolis-maroussi</td>\n",
       "      <td>Cyclopolis</td>\n",
       "      <td>Maroussi</td>\n",
       "      <td>GR</td>\n",
       "      <td>38.056872</td>\n",
       "      <td>23.808330</td>\n",
       "      <td>NaN</td>\n",
       "      <td>NaN</td>\n",
       "      <td>NaN</td>\n",
       "      <td>NaN</td>\n",
       "      <td>NaN</td>\n",
       "    </tr>\n",
       "    <tr>\n",
       "      <th>4</th>\n",
       "      <td>[Groundwork, Slough Borough Council, ITS]</td>\n",
       "      <td>/v2/networks/cycle-hire-slough</td>\n",
       "      <td>cycle-hire-slough</td>\n",
       "      <td>Cycle Hire</td>\n",
       "      <td>Slough</td>\n",
       "      <td>GB</td>\n",
       "      <td>51.511350</td>\n",
       "      <td>-0.591562</td>\n",
       "      <td>NaN</td>\n",
       "      <td>NaN</td>\n",
       "      <td>NaN</td>\n",
       "      <td>NaN</td>\n",
       "      <td>NaN</td>\n",
       "    </tr>\n",
       "  </tbody>\n",
       "</table>\n",
       "</div>"
      ],
      "text/plain": [
       "                                     company  \\\n",
       "0                           [ЗАО «СитиБайк»]   \n",
       "1             [Urban Infrastructure Partner]   \n",
       "2                        [Comunicare S.r.l.]   \n",
       "3                       [Cyclopolis Systems]   \n",
       "4  [Groundwork, Slough Borough Council, ITS]   \n",
       "\n",
       "                               href                   id        name  \\\n",
       "0      /v2/networks/velobike-moscow      velobike-moscow    Velobike   \n",
       "1      /v2/networks/baerum-bysykkel      baerum-bysykkel    Bysykkel   \n",
       "2     /v2/networks/bicincitta-siena     bicincitta-siena  Bicincittà   \n",
       "3  /v2/networks/cyclopolis-maroussi  cyclopolis-maroussi  Cyclopolis   \n",
       "4    /v2/networks/cycle-hire-slough    cycle-hire-slough  Cycle Hire   \n",
       "\n",
       "  location.city location.country  location.latitude  location.longitude  \\\n",
       "0        Moscow               RU          55.750000           37.616667   \n",
       "1         Bærum               NO          59.894550           10.546343   \n",
       "2         Siena               IT          43.318600           11.330600   \n",
       "3      Maroussi               GR          38.056872           23.808330   \n",
       "4        Slough               GB          51.511350           -0.591562   \n",
       "\n",
       "                                              source gbfs_href license.name  \\\n",
       "0                                                NaN       NaN          NaN   \n",
       "1                                                NaN       NaN          NaN   \n",
       "2  https://www.bicincitta.com/frmLeStazioni.aspx?...       NaN          NaN   \n",
       "3                                                NaN       NaN          NaN   \n",
       "4                                                NaN       NaN          NaN   \n",
       "\n",
       "  license.url ebikes  \n",
       "0         NaN    NaN  \n",
       "1         NaN    NaN  \n",
       "2         NaN    NaN  \n",
       "3         NaN    NaN  \n",
       "4         NaN    NaN  "
      ]
     },
     "execution_count": 243,
     "metadata": {},
     "output_type": "execute_result"
    }
   ],
   "source": [
    "getNetworks_df().head()"
   ]
  },
  {
   "cell_type": "markdown",
   "metadata": {
    "tags": []
   },
   "source": [
    "#### Functionality to integrate:\n",
    "For getNetworks_df output:\n",
    "- networks_df.rename(columns = {'location.city' : 'city', 'location.country' : 'country'}\n",
    "- networks_df.drop(columns = ['href', 'source', 'gbfs_href', 'license.name', 'license.url'])\n",
    "\n",
    "Explore the possibility of adding parameter fields like in Google Colab"
   ]
  },
  {
   "cell_type": "markdown",
   "metadata": {
    "jp-MarkdownHeadingCollapsed": true,
    "tags": []
   },
   "source": [
    "### Exploring Network"
   ]
  },
  {
   "cell_type": "code",
   "execution_count": 287,
   "metadata": {
    "tags": []
   },
   "outputs": [],
   "source": [
    "# parameters\n",
    "city = 'Barcelona'"
   ]
  },
  {
   "cell_type": "code",
   "execution_count": 288,
   "metadata": {
    "tags": []
   },
   "outputs": [
    {
     "data": {
      "text/html": [
       "<div>\n",
       "<style scoped>\n",
       "    .dataframe tbody tr th:only-of-type {\n",
       "        vertical-align: middle;\n",
       "    }\n",
       "\n",
       "    .dataframe tbody tr th {\n",
       "        vertical-align: top;\n",
       "    }\n",
       "\n",
       "    .dataframe thead th {\n",
       "        text-align: right;\n",
       "    }\n",
       "</style>\n",
       "<table border=\"1\" class=\"dataframe\">\n",
       "  <thead>\n",
       "    <tr style=\"text-align: right;\">\n",
       "      <th></th>\n",
       "      <th>empty_slots</th>\n",
       "      <th>extra</th>\n",
       "      <th>free_bikes</th>\n",
       "      <th>id</th>\n",
       "      <th>latitude</th>\n",
       "      <th>longitude</th>\n",
       "      <th>name</th>\n",
       "      <th>timestamp</th>\n",
       "    </tr>\n",
       "  </thead>\n",
       "  <tbody>\n",
       "    <tr>\n",
       "      <th>0</th>\n",
       "      <td>24</td>\n",
       "      <td>{'address': 'CARRER DE LA MARINA,25-33', 'alti...</td>\n",
       "      <td>19</td>\n",
       "      <td>8b92416c1f4a49323575c4ce26f0fc8c</td>\n",
       "      <td>41.388125</td>\n",
       "      <td>2.195187</td>\n",
       "      <td>CARRER DE LA MARINA,25-33</td>\n",
       "      <td>2023-02-25T19:11:50.393000Z</td>\n",
       "    </tr>\n",
       "    <tr>\n",
       "      <th>1</th>\n",
       "      <td>19</td>\n",
       "      <td>{'address': 'C/ ONZE DE SETEMBRE, 37-39', 'alt...</td>\n",
       "      <td>7</td>\n",
       "      <td>ad095f2d769ae6eb8ce76db4bde21a0c</td>\n",
       "      <td>41.429861</td>\n",
       "      <td>2.192201</td>\n",
       "      <td>C/ ONZE DE SETEMBRE, 37-39</td>\n",
       "      <td>2023-02-25T19:11:50.682000Z</td>\n",
       "    </tr>\n",
       "    <tr>\n",
       "      <th>2</th>\n",
       "      <td>15</td>\n",
       "      <td>{'address': 'PG. FABRA I PUIG, 385', 'altitude...</td>\n",
       "      <td>13</td>\n",
       "      <td>0f850a848dad56671cf211f1684580b8</td>\n",
       "      <td>41.433326</td>\n",
       "      <td>2.162926</td>\n",
       "      <td>PG. FABRA I PUIG, 385</td>\n",
       "      <td>2023-02-25T19:11:51.176000Z</td>\n",
       "    </tr>\n",
       "    <tr>\n",
       "      <th>3</th>\n",
       "      <td>7</td>\n",
       "      <td>{'address': 'C / PROVENÇA, 241', 'altitude': 3...</td>\n",
       "      <td>11</td>\n",
       "      <td>9a40a01fc442d4f03d0c825280e7f70e</td>\n",
       "      <td>41.393886</td>\n",
       "      <td>2.160164</td>\n",
       "      <td>C / PROVENÇA, 241</td>\n",
       "      <td>2023-02-25T19:11:50.425000Z</td>\n",
       "    </tr>\n",
       "    <tr>\n",
       "      <th>4</th>\n",
       "      <td>20</td>\n",
       "      <td>{'address': 'C/ BRUC, 130', 'altitude': 34.0, ...</td>\n",
       "      <td>8</td>\n",
       "      <td>152ba80b3ff3a4495a001e4e2ee3e50e</td>\n",
       "      <td>41.396984</td>\n",
       "      <td>2.166185</td>\n",
       "      <td>C/ BRUC, 130</td>\n",
       "      <td>2023-02-25T19:11:50.589000Z</td>\n",
       "    </tr>\n",
       "  </tbody>\n",
       "</table>\n",
       "</div>"
      ],
      "text/plain": [
       "   empty_slots                                              extra  free_bikes  \\\n",
       "0           24  {'address': 'CARRER DE LA MARINA,25-33', 'alti...          19   \n",
       "1           19  {'address': 'C/ ONZE DE SETEMBRE, 37-39', 'alt...           7   \n",
       "2           15  {'address': 'PG. FABRA I PUIG, 385', 'altitude...          13   \n",
       "3            7  {'address': 'C / PROVENÇA, 241', 'altitude': 3...          11   \n",
       "4           20  {'address': 'C/ BRUC, 130', 'altitude': 34.0, ...           8   \n",
       "\n",
       "                                 id   latitude  longitude  \\\n",
       "0  8b92416c1f4a49323575c4ce26f0fc8c  41.388125   2.195187   \n",
       "1  ad095f2d769ae6eb8ce76db4bde21a0c  41.429861   2.192201   \n",
       "2  0f850a848dad56671cf211f1684580b8  41.433326   2.162926   \n",
       "3  9a40a01fc442d4f03d0c825280e7f70e  41.393886   2.160164   \n",
       "4  152ba80b3ff3a4495a001e4e2ee3e50e  41.396984   2.166185   \n",
       "\n",
       "                         name                    timestamp  \n",
       "0   CARRER DE LA MARINA,25-33  2023-02-25T19:11:50.393000Z  \n",
       "1  C/ ONZE DE SETEMBRE, 37-39  2023-02-25T19:11:50.682000Z  \n",
       "2       PG. FABRA I PUIG, 385  2023-02-25T19:11:51.176000Z  \n",
       "3           C / PROVENÇA, 241  2023-02-25T19:11:50.425000Z  \n",
       "4                C/ BRUC, 130  2023-02-25T19:11:50.589000Z  "
      ]
     },
     "execution_count": 288,
     "metadata": {},
     "output_type": "execute_result"
    }
   ],
   "source": [
    "getNetwork_df(city).head()"
   ]
  },
  {
   "cell_type": "markdown",
   "metadata": {},
   "source": [
    "#### Functionality to integrate:\n",
    "- Error handling for getNetworks_id()\n",
    "\n",
    "Explore the possibility of adding parameter fields like in Google Colab"
   ]
  },
  {
   "cell_type": "markdown",
   "metadata": {
    "tags": []
   },
   "source": [
    "### Acquiring project specific data"
   ]
  },
  {
   "cell_type": "code",
   "execution_count": 31,
   "metadata": {
    "tags": []
   },
   "outputs": [],
   "source": [
    "# parameters\n",
    "city = 'Barcelona'"
   ]
  },
  {
   "cell_type": "code",
   "execution_count": 32,
   "metadata": {
    "tags": []
   },
   "outputs": [
    {
     "name": "stdout",
     "output_type": "stream",
     "text": [
      "<class 'pandas.core.frame.DataFrame'>\n",
      "RangeIndex: 505 entries, 0 to 504\n",
      "Data columns (total 3 columns):\n",
      " #   Column     Non-Null Count  Dtype  \n",
      "---  ------     --------------  -----  \n",
      " 0   bikes      505 non-null    int64  \n",
      " 1   latitude   505 non-null    float64\n",
      " 2   longitude  505 non-null    float64\n",
      "dtypes: float64(2), int64(1)\n",
      "memory usage: 12.0 KB\n"
     ]
    }
   ],
   "source": [
    "cityBikes_df = getCityBikes_df(getNetwork_df(city))\n",
    "cityBikes_df.info()"
   ]
  },
  {
   "cell_type": "code",
   "execution_count": 22,
   "metadata": {
    "tags": []
   },
   "outputs": [],
   "source": [
    "cityBikes_df.to_csv('barcelonaBikes.csv', index = False)"
   ]
  },
  {
   "cell_type": "markdown",
   "metadata": {},
   "source": [
    "#### Functionality to integrate:\n",
    "- Error handling for getCityBikes()\n",
    "\n",
    "Explore the possibility of adding parameter fields like in Google Colab"
   ]
  }
 ],
 "metadata": {
  "kernelspec": {
   "display_name": "Python 3 (ipykernel)",
   "language": "python",
   "name": "python3"
  },
  "language_info": {
   "codemirror_mode": {
    "name": "ipython",
    "version": 3
   },
   "file_extension": ".py",
   "mimetype": "text/x-python",
   "name": "python",
   "nbconvert_exporter": "python",
   "pygments_lexer": "ipython3",
   "version": "3.10.9"
  }
 },
 "nbformat": 4,
 "nbformat_minor": 4
}
